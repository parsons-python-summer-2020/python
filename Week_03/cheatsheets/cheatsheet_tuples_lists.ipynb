{
 "cells": [
  {
   "cell_type": "markdown",
   "metadata": {},
   "source": [
    "<h1 style=\"color:blue\">TUPLES & LISTS</h1>\n",
    "\n",
    "1. [Definitions](#01)\n",
    "1. [When to use tuples versus lists?](#02)\n",
    "1. [Common methods for both lists and tuples](#03)\n",
    "1. [Conversions among lists, tuples and strings](#04)\n",
    "1. [Modifying elements with Lists!](#05)\n",
    "\n",
    "<hr>\n",
    "\n",
    "\n",
    "\n",
    "## <span id=\"01\">Definitions</span>\n",
    "\n",
    "Tuples and lists are both <b>collection data types</b> that store array(s) of data \n",
    "\n",
    "\n",
    "<span style = \"color:red\"><b>Tuples are immutable lists!</b></span>\n",
    "\n",
    "- Tuples are <b>immutable</b> - cannot be changed\n",
    "    - usually declare with parenthesis ( )\n",
    "- Lists are <b>mutable</b> - can be changed\n",
    "    - usually declare with square brackets [ ]\n",
    "- You can do a lot of things to <b>both tuples or lists</b> such as \n",
    "    - looping \n",
    "    - iterating\n",
    "    - accessing\n",
    "- There are things you can only do with lists\n",
    "    - change values of elements\n",
    "    - reordering\n",
    "    - Adding/removing elements"
   ]
  },
  {
   "cell_type": "code",
   "execution_count": 2,
   "metadata": {},
   "outputs": [
    {
     "name": "stdout",
     "output_type": "stream",
     "text": [
      "<class 'tuple'>\n",
      "<class 'tuple'>\n",
      "()\n",
      "(1, 2, 3)\n",
      "(1, 'Hello', 3.4)\n",
      "('sun', [8, 4, 6], (1, 2, 3))\n"
     ]
    }
   ],
   "source": [
    "# How to declare a tuple, with parentheses or not, separated by comma\n",
    "t1 = 1,3,4,6 # no parentheses is called tuple packing\n",
    "t2 = (1,3,4,6)\n",
    "print(type(t1))\n",
    "print(type(t2))\n",
    "\n",
    "# Different types of tuples\n",
    "\n",
    "# Empty tuple\n",
    "my_tuple = ()\n",
    "print(my_tuple)\n",
    "\n",
    "# Tuple having integers\n",
    "my_tuple = (1, 2, 3)\n",
    "print(my_tuple)\n",
    "\n",
    "# Tuple with mixed datatypes\n",
    "my_tuple = (1, \"Hello\", 3.4)\n",
    "print(my_tuple)\n",
    "\n",
    "# nested tuple\n",
    "# Although tupels cannot be changed, item of mutable element can be changed\n",
    "my_tuple = (\"sun\", [8, 4, 6], (1, 2, 3))\n",
    "print(my_tuple)\n"
   ]
  },
  {
   "cell_type": "code",
   "execution_count": 14,
   "metadata": {},
   "outputs": [
    {
     "name": "stdout",
     "output_type": "stream",
     "text": [
      "<class 'str'>\n",
      "<class 'tuple'>\n"
     ]
    }
   ],
   "source": [
    "# Having parentheses is not enough, tuples are actually identified with commas\n",
    "tuple_ = (\"hello\")\n",
    "print(type(tuple_))\n",
    "tuple_ = (\"hello\",)\n",
    "print(type(tuple_))"
   ]
  },
  {
   "cell_type": "code",
   "execution_count": 3,
   "metadata": {},
   "outputs": [
    {
     "name": "stdout",
     "output_type": "stream",
     "text": [
      "<class 'list'>\n",
      "[]\n",
      "[2, 1, 4]\n",
      "[1, 'Hello', 0.2]\n",
      "('sun', [8, 4, 6], (1, 2, 3))\n"
     ]
    }
   ],
   "source": [
    "# How to declare a list\n",
    "li = [1,3,4,6]\n",
    "print(type(li))\n",
    "\n",
    "# Empty list\n",
    "my_list = []\n",
    "print(my_list)\n",
    "\n",
    "# List having integers\n",
    "my_list = [2,1,4]\n",
    "print(my_list)\n",
    "\n",
    "# List with mixed datatypes\n",
    "my_list = [1,\"Hello\",0.2]\n",
    "print(my_list)\n",
    "\n",
    "# Nested Lists\n",
    "my_list = (\"sun\", [8, 4, 6], (1, 2, 3))\n",
    "print(my_list)"
   ]
  },
  {
   "cell_type": "markdown",
   "metadata": {},
   "source": [
    "## <span id=\"02\">When would I use tuples rather than lists?</span>\n",
    "\n",
    "#### general rules for choosing which to use:\n",
    "- when you need to modify or change elements, use lists\n",
    "- when you only need to iterate/access values, use tuples\n",
    "\n",
    "#### Benefits of tuples:\n",
    "- tuples are less expensive for your program to run as it iterates through all elements faster\n",
    "- you cannot change the value of elements nor the order of elements\n",
    "- once a tuple is created, you cannot change elements(immutable), add/remove elements\n",
    "- if you are only creating collections of data with a fixed value and order, use tuples\n",
    "\n",
    "#### Benefits of lists\n",
    "- you can modify elements, change elements \n",
    "- once it's created, you can append, delete, re-order \n",
    "\n",
    "    \n",
    "<span style=\"color:green\">Generally speaking, <b>lists</b> are used more often than tuples.</span>"
   ]
  },
  {
   "cell_type": "code",
   "execution_count": 28,
   "metadata": {},
   "outputs": [
    {
     "ename": "TypeError",
     "evalue": "'tuple' object does not support item assignment",
     "output_type": "error",
     "traceback": [
      "\u001b[0;31m---------------------------------------------------------------------------\u001b[0m",
      "\u001b[0;31mTypeError\u001b[0m                                 Traceback (most recent call last)",
      "\u001b[0;32m<ipython-input-28-1dfa5dc1e3cb>\u001b[0m in \u001b[0;36m<module>\u001b[0;34m\u001b[0m\n\u001b[1;32m      1\u001b[0m \u001b[0;31m# tuples are immutable\u001b[0m\u001b[0;34m\u001b[0m\u001b[0;34m\u001b[0m\u001b[0;34m\u001b[0m\u001b[0m\n\u001b[0;32m----> 2\u001b[0;31m \u001b[0mt2\u001b[0m\u001b[0;34m[\u001b[0m\u001b[0;36m1\u001b[0m\u001b[0;34m]\u001b[0m \u001b[0;34m=\u001b[0m \u001b[0;36m2\u001b[0m \u001b[0;31m# this will raise error because you cannot modify it\u001b[0m\u001b[0;34m\u001b[0m\u001b[0;34m\u001b[0m\u001b[0m\n\u001b[0m",
      "\u001b[0;31mTypeError\u001b[0m: 'tuple' object does not support item assignment"
     ]
    }
   ],
   "source": [
    "# tuples are immutable\n",
    "t2[1] = 2 # this will raise error because you cannot modify it"
   ]
  },
  {
   "cell_type": "code",
   "execution_count": 29,
   "metadata": {},
   "outputs": [
    {
     "name": "stdout",
     "output_type": "stream",
     "text": [
      "[1, 2, 4, 6]\n",
      "[1, 2, 4, 6]\n"
     ]
    }
   ],
   "source": [
    "# lists are immutable\n",
    "print(li)\n",
    "li[1] = 2 # this will change the second element's value to 2\n",
    "print(li)"
   ]
  },
  {
   "cell_type": "markdown",
   "metadata": {},
   "source": [
    "<hr>\n",
    "\n",
    "# <span>Common methods you can use for both tuples and lists</span>\n",
    "- you can do a lot of things to <b>both tuples or lists</b> such as \n",
    "    - [accessing elements](#10)\n",
    "        - [indexing](#11)\n",
    "        - [negative indexing](#12)\n",
    "        - [range of indexes](#13)\n",
    "    - [iterating/looping](#14)\n",
    "        - for loop"
   ]
  },
  {
   "cell_type": "markdown",
   "metadata": {},
   "source": [
    "<hr>\n",
    "\n",
    "## <span id=\"10\">How to access individual element?</span>\n",
    "\n",
    "### <span id=\"11\">Indexing</span>\n",
    "Let's say you declare a list or tuple, and you need to retrieve the value of specific element:\n",
    "- You use square brackets to call out the <b>index number</b> aka the location of the element within the group\n",
    "- Every element in a list or a tuple has its ordered position\n",
    "- In the programming world, the first element/index <b>starts with 0, not 1!</b>"
   ]
  },
  {
   "cell_type": "code",
   "execution_count": 24,
   "metadata": {},
   "outputs": [
    {
     "name": "stdout",
     "output_type": "stream",
     "text": [
      "(1, 3, 4, 6)\n",
      "1\n"
     ]
    }
   ],
   "source": [
    "print(t1)\n",
    "print(t1[0]) # print only the first element"
   ]
  },
  {
   "cell_type": "code",
   "execution_count": 24,
   "metadata": {},
   "outputs": [
    {
     "name": "stdout",
     "output_type": "stream",
     "text": [
      "[1, 3, 4, 6]\n",
      "3 4 6\n"
     ]
    }
   ],
   "source": [
    "print(li)\n",
    "print(li[1],li[2],li[3]) # [1] is actually the second element"
   ]
  },
  {
   "cell_type": "code",
   "execution_count": 22,
   "metadata": {},
   "outputs": [
    {
     "ename": "IndexError",
     "evalue": "list index out of range",
     "output_type": "error",
     "traceback": [
      "\u001b[0;31m---------------------------------------------------------------------------\u001b[0m",
      "\u001b[0;31mIndexError\u001b[0m                                Traceback (most recent call last)",
      "\u001b[0;32m<ipython-input-22-baf796289186>\u001b[0m in \u001b[0;36m<module>\u001b[0;34m\u001b[0m\n\u001b[0;32m----> 1\u001b[0;31m \u001b[0mprint\u001b[0m\u001b[0;34m(\u001b[0m\u001b[0mli\u001b[0m\u001b[0;34m[\u001b[0m\u001b[0;36m4\u001b[0m\u001b[0;34m]\u001b[0m\u001b[0;34m)\u001b[0m\u001b[0;34m\u001b[0m\u001b[0;34m\u001b[0m\u001b[0m\n\u001b[0m",
      "\u001b[0;31mIndexError\u001b[0m: list index out of range"
     ]
    }
   ],
   "source": [
    "print(li[4]) # will raise error because [4] is the 5th element"
   ]
  },
  {
   "cell_type": "markdown",
   "metadata": {},
   "source": [
    "### <span id=\"12\">Negative indexing</span>\n",
    "if you want to get the last item of a list/tuple, you can use \"[-num]\""
   ]
  },
  {
   "cell_type": "code",
   "execution_count": 1,
   "metadata": {},
   "outputs": [
    {
     "ename": "NameError",
     "evalue": "name 'li' is not defined",
     "output_type": "error",
     "traceback": [
      "\u001b[0;31m------------------------------------------------------\u001b[0m",
      "\u001b[0;31mNameError\u001b[0m            Traceback (most recent call last)",
      "\u001b[0;32m<ipython-input-1-910f177596c9>\u001b[0m in \u001b[0;36m<module>\u001b[0;34m\u001b[0m\n\u001b[0;32m----> 1\u001b[0;31m \u001b[0mprint\u001b[0m\u001b[0;34m(\u001b[0m\u001b[0mli\u001b[0m\u001b[0;34m[\u001b[0m\u001b[0;36m3\u001b[0m\u001b[0;34m]\u001b[0m\u001b[0;34m)\u001b[0m\u001b[0;34m\u001b[0m\u001b[0;34m\u001b[0m\u001b[0m\n\u001b[0m\u001b[1;32m      2\u001b[0m \u001b[0mprint\u001b[0m\u001b[0;34m(\u001b[0m\u001b[0mli\u001b[0m\u001b[0;34m[\u001b[0m\u001b[0;34m-\u001b[0m\u001b[0;36m1\u001b[0m\u001b[0;34m]\u001b[0m\u001b[0;34m)\u001b[0m \u001b[0;31m# the last element in the list\u001b[0m\u001b[0;34m\u001b[0m\u001b[0;34m\u001b[0m\u001b[0m\n\u001b[1;32m      3\u001b[0m \u001b[0mprint\u001b[0m\u001b[0;34m(\u001b[0m\u001b[0mt1\u001b[0m\u001b[0;34m[\u001b[0m\u001b[0;36m3\u001b[0m\u001b[0;34m]\u001b[0m\u001b[0;34m)\u001b[0m \u001b[0;31m# same with tuple\u001b[0m\u001b[0;34m\u001b[0m\u001b[0;34m\u001b[0m\u001b[0m\n\u001b[1;32m      4\u001b[0m \u001b[0mprint\u001b[0m\u001b[0;34m(\u001b[0m\u001b[0mt1\u001b[0m\u001b[0;34m[\u001b[0m\u001b[0;34m-\u001b[0m\u001b[0;36m1\u001b[0m\u001b[0;34m]\u001b[0m\u001b[0;34m)\u001b[0m\u001b[0;34m\u001b[0m\u001b[0;34m\u001b[0m\u001b[0m\n",
      "\u001b[0;31mNameError\u001b[0m: name 'li' is not defined"
     ]
    }
   ],
   "source": [
    "print(li[3])\n",
    "print(li[-1]) # the last element in the list\n",
    "print(t1[3]) # same with tuple\n",
    "print(t1[-1])"
   ]
  },
  {
   "cell_type": "markdown",
   "metadata": {},
   "source": [
    "### <span id=\"13\">Range of indexes</span>\n",
    "if you want a range of elements from a list or tuple"
   ]
  },
  {
   "cell_type": "code",
   "execution_count": 16,
   "metadata": {},
   "outputs": [
    {
     "name": "stdout",
     "output_type": "stream",
     "text": [
      "['Design', 'and', 'Technology']\n",
      "['Parsons', 'Design', 'and']\n",
      "['Technology']\n"
     ]
    }
   ],
   "source": [
    "terms = ['Parsons','Design','and','Technology']\n",
    "#range outputs the same datatype\n",
    "print(terms [1:])\n",
    "print(terms [:-1])\n",
    "print(terms [-1:])"
   ]
  },
  {
   "cell_type": "markdown",
   "metadata": {},
   "source": [
    "### <span id=\"14\">Iterating/looping</span>\n",
    "\n",
    "If we want to go through a list or a tuple element by element, we use a [<b style=\"color: red\">for</b>](https://www.learnpython.org/en/Loops) loop.\n",
    "\n",
    "With the for loop we can execute a set of statements, once for each item in a list or a tuple."
   ]
  },
  {
   "cell_type": "code",
   "execution_count": 31,
   "metadata": {},
   "outputs": [
    {
     "name": "stdout",
     "output_type": "stream",
     "text": [
      "Parsons\n",
      "Design\n",
      "and\n",
      "Technology\n"
     ]
    }
   ],
   "source": [
    "for term in terms: # term is just a placeholder indicating 'each element'\n",
    "    print(term)"
   ]
  },
  {
   "cell_type": "code",
   "execution_count": 36,
   "metadata": {},
   "outputs": [
    {
     "name": "stdout",
     "output_type": "stream",
     "text": [
      "Parsons!\n",
      "Design!\n",
      "and!\n",
      "Technology!\n"
     ]
    }
   ],
   "source": [
    "# it can be any placeholder in replacement of 'term'\n",
    "for a in terms:\n",
    "    # it will go through every 'a' in terms and execute something to that 'a'\n",
    "    print(a + '!') "
   ]
  },
  {
   "cell_type": "markdown",
   "metadata": {},
   "source": [
    "you can loop/iterate through a tuple as well:"
   ]
  },
  {
   "cell_type": "code",
   "execution_count": 38,
   "metadata": {},
   "outputs": [
    {
     "name": "stdout",
     "output_type": "stream",
     "text": [
      "Emma\n",
      "Frank\n",
      "Roy\n"
     ]
    }
   ],
   "source": [
    "people = ('Emma','Frank','Roy')\n",
    "for person in people:\n",
    "    print(person)"
   ]
  },
  {
   "cell_type": "markdown",
   "metadata": {},
   "source": [
    "\n",
    "<hr>\n",
    "\n",
    "## <span id=\"04\">Conversions among lists, tuples and strings</span>\n",
    "1. string method: split( )\n",
    "1. string method: join( )\n",
    "1. lisy( ) constructor\n",
    "1. tuple( ) construct0r"
   ]
  },
  {
   "cell_type": "code",
   "execution_count": 51,
   "metadata": {},
   "outputs": [
    {
     "name": "stdout",
     "output_type": "stream",
     "text": [
      "['Curl', 'up', 'like', 'a', 'dead', 'leaf']\n"
     ]
    }
   ],
   "source": [
    "# string to list\n",
    "str = \"Curl up like a dead leaf\"\n",
    "str2li = str.split(' ') # split the string with a 'space' operator\n",
    "print(str2li)"
   ]
  },
  {
   "cell_type": "code",
   "execution_count": 52,
   "metadata": {},
   "outputs": [
    {
     "name": "stdout",
     "output_type": "stream",
     "text": [
      "Curl up like a dead leaf\n"
     ]
    }
   ],
   "source": [
    "# list to string\n",
    "li2str = ' '.join(str2li) # join the list elements with a 'space' operator\n",
    "print(li2str)"
   ]
  },
  {
   "cell_type": "code",
   "execution_count": 58,
   "metadata": {},
   "outputs": [
    {
     "name": "stdout",
     "output_type": "stream",
     "text": [
      "('Curl', 'up', 'like', 'a', 'dead', 'leaf')\n",
      "['Curl', 'up', 'like', 'a', 'dead', 'leaf']\n"
     ]
    }
   ],
   "source": [
    "# list to tuple to list\n",
    "li2tup = tuple(str2li)\n",
    "print(li2tup)\n",
    "tup2lis = list(li2tup)\n",
    "print(tup2lis)"
   ]
  },
  {
   "cell_type": "markdown",
   "metadata": {},
   "source": [
    "\n",
    "<br>\n",
    "\n",
    "<hr>\n",
    "\n",
    "## <span id=\"05\">Modifying elements with lists</span>\n",
    "\n",
    "When you know at some point this collection of data will need to change, you should declare it as lists.\n",
    "\n",
    "but if you can always <b>turn tuples into lists</b> if you need to change elements.\n",
    "\n",
    "With lists, there are many things we can do that you can do with tuples:\n",
    "\n",
    "- Add elements\n",
    "- Remove elements\n",
    "- Insert element at a specific location\n",
    "- Check index number\n",
    "- Extend one list from another list\n",
    "- Sorting\n",
    "- element Count \n"
   ]
  },
  {
   "cell_type": "markdown",
   "metadata": {},
   "source": [
    "### Add elements\n",
    "<b>append( )</b> method adds the parameter to the end of your list"
   ]
  },
  {
   "cell_type": "code",
   "execution_count": 97,
   "metadata": {},
   "outputs": [
    {
     "name": "stdout",
     "output_type": "stream",
     "text": [
      "['Emma', 'Peter', 'Frank', 'Sven', 3, 'Judy']\n"
     ]
    }
   ],
   "source": [
    "names = [\"Emma\",\"Peter\",\"Frank\",\"Sven\"]\n",
    "names.append(3) # append a number\n",
    "names.append(\"Judy\") # append another string\n",
    "print(names)"
   ]
  },
  {
   "cell_type": "markdown",
   "metadata": {},
   "source": [
    "### Remove elements\n",
    "<b>remove( )</b> deletes the element that matches specific value\n",
    "\n",
    "<b>pop( )</b> deletes the element that matches the index position"
   ]
  },
  {
   "cell_type": "code",
   "execution_count": 98,
   "metadata": {},
   "outputs": [
    {
     "name": "stdout",
     "output_type": "stream",
     "text": [
      "['Emma', 'Peter', 'Frank', 'Sven', 3, 'Judy']\n",
      "['Emma', 'Peter', 'Frank', 'Sven', 'Judy']\n"
     ]
    }
   ],
   "source": [
    "print(names)\n",
    "names.remove(3) # remove the element that matches 3\n",
    "print(names)"
   ]
  },
  {
   "cell_type": "code",
   "execution_count": 100,
   "metadata": {},
   "outputs": [
    {
     "name": "stdout",
     "output_type": "stream",
     "text": [
      "['Emma', 'Peter', 'Frank', 'Sven', 'Judy']\n",
      "['Peter', 'Frank', 'Sven', 'Judy']\n"
     ]
    }
   ],
   "source": [
    "print(names)\n",
    "names.pop(0) # remove the first element – 'Emma' from the list\n",
    "print(names)"
   ]
  },
  {
   "cell_type": "markdown",
   "metadata": {},
   "source": [
    "### Insert Elements \n",
    "<b>inserts( )</b> takes two parameters: the index location and element value"
   ]
  },
  {
   "cell_type": "code",
   "execution_count": 92,
   "metadata": {},
   "outputs": [
    {
     "name": "stdout",
     "output_type": "stream",
     "text": [
      "['Emma', 'Bob', 'Peter', 'Frank', 'Sven', 'Judy']\n"
     ]
    }
   ],
   "source": [
    "names.insert(1,\"Bob\") # insert string at the second element position\n",
    "print(names)"
   ]
  },
  {
   "cell_type": "code",
   "execution_count": 94,
   "metadata": {},
   "outputs": [
    {
     "data": {
      "text/plain": [
       "1"
      ]
     },
     "execution_count": 94,
     "metadata": {},
     "output_type": "execute_result"
    }
   ],
   "source": [
    "# check the index number of specific value\n",
    "names.index(\"Bob\")"
   ]
  },
  {
   "cell_type": "markdown",
   "metadata": {},
   "source": [
    "### Extend lists\n",
    "\n",
    "Appending one list to another"
   ]
  },
  {
   "cell_type": "code",
   "execution_count": 96,
   "metadata": {},
   "outputs": [
    {
     "name": "stdout",
     "output_type": "stream",
     "text": [
      "[2, 0, 0, 0, 10, 1, 0]\n"
     ]
    }
   ],
   "source": [
    "list1 = [0,0,0,10,1,0]\n",
    "list2 = [2]\n",
    "list2.extend(list1)\n",
    "print(list2)"
   ]
  },
  {
   "cell_type": "markdown",
   "metadata": {},
   "source": [
    "<br>\n",
    "\n",
    "### Sorting\n",
    "order the list, reverse the order of the list\n",
    "\n",
    "<b>sort( )</b> method sorts the list ascending by default.\n",
    "\n",
    "<b>reverse( )</b> reverse the order of the list."
   ]
  },
  {
   "cell_type": "code",
   "execution_count": 110,
   "metadata": {},
   "outputs": [
    {
     "name": "stdout",
     "output_type": "stream",
     "text": [
      "[0, 2, 3, 9]\n"
     ]
    }
   ],
   "source": [
    "numbers = [9,0,3,2]\n",
    "numbers.sort()\n",
    "print(numbers)"
   ]
  },
  {
   "cell_type": "code",
   "execution_count": 111,
   "metadata": {},
   "outputs": [
    {
     "name": "stdout",
     "output_type": "stream",
     "text": [
      "['apple', 'banana', 'watermelon']\n"
     ]
    }
   ],
   "source": [
    "fruits = [\"banana\",\"apple\",\"watermelon\"]\n",
    "fruits.sort()\n",
    "print(fruits)"
   ]
  },
  {
   "cell_type": "code",
   "execution_count": 112,
   "metadata": {},
   "outputs": [
    {
     "name": "stdout",
     "output_type": "stream",
     "text": [
      "[9, 3, 2, 0]\n"
     ]
    }
   ],
   "source": [
    "numbers.reverse()\n",
    "print(numbers)"
   ]
  },
  {
   "cell_type": "code",
   "execution_count": 113,
   "metadata": {},
   "outputs": [
    {
     "name": "stdout",
     "output_type": "stream",
     "text": [
      "['watermelon', 'banana', 'apple']\n"
     ]
    }
   ],
   "source": [
    "fruits.reverse()\n",
    "print(fruits)"
   ]
  },
  {
   "cell_type": "markdown",
   "metadata": {},
   "source": [
    "\n",
    "\n",
    "### Count\n",
    "Lists have built-in function that allows you count the number of times one element appear in your list"
   ]
  },
  {
   "cell_type": "code",
   "execution_count": 114,
   "metadata": {},
   "outputs": [
    {
     "data": {
      "text/plain": [
       "3"
      ]
     },
     "execution_count": 114,
     "metadata": {},
     "output_type": "execute_result"
    }
   ],
   "source": [
    "words = ['flower','bee','bee','flower','leaf','bee']\n",
    "words.count('bee')"
   ]
  },
  {
   "cell_type": "code",
   "execution_count": null,
   "metadata": {},
   "outputs": [],
   "source": []
  }
 ],
 "metadata": {
  "kernelspec": {
   "display_name": "Python 3",
   "language": "python",
   "name": "python3"
  },
  "language_info": {
   "codemirror_mode": {
    "name": "ipython",
    "version": 3
   },
   "file_extension": ".py",
   "mimetype": "text/x-python",
   "name": "python",
   "nbconvert_exporter": "python",
   "pygments_lexer": "ipython3",
   "version": "3.7.4"
  }
 },
 "nbformat": 4,
 "nbformat_minor": 2
}
