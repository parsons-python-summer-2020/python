{
 "cells": [
  {
   "cell_type": "markdown",
   "metadata": {},
   "source": [
    "# A Mad-Libs invitation generator\n",
    "\n",
    "Mad-Libs is a phrasal template word game where one player prompts others for a list of words to <b>substitute</b> for blanks in a story.\n",
    "\n",
    "We are going to create an event `invitation function` that would allow us to automate creating copies of event invitations.\n",
    "\n",
    "<span style=\"color:tomato\">The invitation template</span>:\n",
    "```\n",
    "    Hey, _guestname_!\n",
    "    You are invited to a _type_of_event_! Join us on _date_ at _location_!\n",
    "    Bring _items_.\n",
    "    \n",
    "    Best,\n",
    "    Party bear\n",
    "    \n",
    "```\n",
    "\n",
    "<span style=\"color:tomato\">An example output</span>:\n",
    "```\n",
    "    Hey, Sven!\n",
    "    You are invited to a gathering! Join us on July 2nd at Union Square!\n",
    "    Bring beverages, games, signs, masks, and facecovers.\n",
    "\n",
    "    Best,\n",
    "    Party bear\n",
    "```"
   ]
  },
  {
   "cell_type": "markdown",
   "metadata": {},
   "source": [
    "### Break down components and structure of an invitation\n",
    "1. Print out a small part of the invitation with variables\n",
    "1. Curate versions for guests in guestlist\n",
    "1. Declare event details as variables and assign values to them\n",
    "1. Automate parts of the flow\n",
    "1. Compile and make one big function to populate our invitations"
   ]
  },
  {
   "cell_type": "code",
   "execution_count": 32,
   "metadata": {},
   "outputs": [
    {
     "name": "stdout",
     "output_type": "stream",
     "text": [
      "Hey, Lan and Anna!\n"
     ]
    }
   ],
   "source": [
    "# Let's print out the invitation template first\n",
    "\n",
    "string_template = '''\n",
    "    Hey, %s!\n",
    "    You are invited to a %s! Join us on %s at %s!\n",
    "    Bring %s.\n",
    "\n",
    "    Best,\n",
    "    Party bear\n",
    "    \n",
    "    ---\n",
    "'''\n",
    "\n",
    "name = \"Lan\"\n",
    "name2 = \"Anna\"\n",
    "\n",
    "# the old way to print multiple variables together\n",
    "print(\"Hey, \" + name + ' and '+ name2 + '!')"
   ]
  },
  {
   "cell_type": "markdown",
   "metadata": {},
   "source": [
    "## String formatting\n",
    "\n",
    "- %d \n",
    "- %s\n",
    "- %f\n",
    "\n",
    "print( ) supports formatting of console output that is rudimentary at best. You can choose how to separate printed objects, and you can specify what goes at the end of the printed line. That’s about it.\n",
    "\n",
    "In many cases, you’ll need more `precise control` over the appearance of data destined for display. Python provides several ways to format output string data.\n",
    "\n",
    "- [string_formatting_modulo](https://realpython.com/python-input-output/#the-string-modulo-operator)\n",
    "- [newer_ways_of_string_formatting](https://realpython.com/python-formatted-output/)"
   ]
  },
  {
   "cell_type": "code",
   "execution_count": 14,
   "metadata": {},
   "outputs": [
    {
     "name": "stdout",
     "output_type": "stream",
     "text": [
      "\n",
      "    Hey, Lan and Anna!\n",
      "    You are invited to a _type_of_event_! Join us on _date_ at _location_!\n",
      "    Bring _items_.\n",
      "\n",
      "    Best,\n",
      "    Party bear\n",
      "\n"
     ]
    }
   ],
   "source": [
    "# Create our invitation template using string formatting\n",
    "# Test out string formatting with only one parameter variable\n",
    "\n",
    "print(string_template % (name,name2))"
   ]
  },
  {
   "cell_type": "code",
   "execution_count": 18,
   "metadata": {},
   "outputs": [
    {
     "name": "stdout",
     "output_type": "stream",
     "text": [
      "\n",
      "    Hey, Lan!\n",
      "    You are invited to a _type_of_event_! Join us on _date_ at _location_!\n",
      "    Bring _items_.\n",
      "\n",
      "    Best,\n",
      "    Party bear\n",
      "    \n",
      "    ---\n",
      "\n",
      "\n",
      "    Hey, Anna!\n",
      "    You are invited to a _type_of_event_! Join us on _date_ at _location_!\n",
      "    Bring _items_.\n",
      "\n",
      "    Best,\n",
      "    Party bear\n",
      "    \n",
      "    ---\n",
      "\n",
      "\n",
      "    Hey, Jason!\n",
      "    You are invited to a _type_of_event_! Join us on _date_ at _location_!\n",
      "    Bring _items_.\n",
      "\n",
      "    Best,\n",
      "    Party bear\n",
      "    \n",
      "    ---\n",
      "\n",
      "\n",
      "    Hey, Sven and friends!\n",
      "    You are invited to a _type_of_event_! Join us on _date_ at _location_!\n",
      "    Bring _items_.\n",
      "\n",
      "    Best,\n",
      "    Party bear\n",
      "    \n",
      "    ---\n",
      "\n"
     ]
    }
   ],
   "source": [
    "# Create our guestlist and event variables using lists and tuples\n",
    "guestlist = ['Lan','Anna','Jason','Sven and friends']\n",
    "\n",
    "# This is a for loop that iterates through all elements of a list\n",
    "# for var in list\n",
    "# guest is just a variable name – representing every element in a list\n",
    "for guest in guestlist:\n",
    "    print(string_template % (guest))"
   ]
  },
  {
   "cell_type": "code",
   "execution_count": 33,
   "metadata": {},
   "outputs": [],
   "source": [
    "# Create functions that will automate some parts of the process\n",
    "import random\n",
    "event_type = 'gathering'\n",
    "date = 'July 20th'\n",
    "location = 'Union Square'\n",
    "items = ['an umbrella','a wok','a water bottle','masks','signs','games']\n",
    "\n",
    "\n",
    "# Compiling into one function that takes the following inputs\n",
    "def createInvitations(guestlist,event_type,date,location,items):\n",
    "    \n",
    "    # This function will converts a list of items into a string of 'a, b, c, and d.'\n",
    "    def allItems(li):\n",
    "        return ', '.join(li[:-1]) + ', and %s' % (li[-1])\n",
    "    \n",
    "    # This function will outputs a random item from a list input\n",
    "    def randItem(li):\n",
    "        return random.choice(li)\n",
    "\n",
    "    for guest in guestlist:\n",
    "        # variables within the tuple are from the function input\n",
    "        print(string_template % (guest, \n",
    "                                 event_type,  \n",
    "                                 date,\n",
    "                                 location,\n",
    "                                 # call allItem function\n",
    "                                 # try randItem(items) instead\n",
    "                                 allItems(items) \n",
    "                                ))"
   ]
  },
  {
   "cell_type": "code",
   "execution_count": 34,
   "metadata": {},
   "outputs": [
    {
     "name": "stdout",
     "output_type": "stream",
     "text": [
      "\n",
      "    Hey, Lan!\n",
      "    You are invited to a gathering! Join us on July 20th at Union Square!\n",
      "    Bring an umbrella, a wok, a water bottle, masks, signs, and games.\n",
      "\n",
      "    Best,\n",
      "    Party bear\n",
      "    \n",
      "    ---\n",
      "\n",
      "\n",
      "    Hey, Anna!\n",
      "    You are invited to a gathering! Join us on July 20th at Union Square!\n",
      "    Bring an umbrella, a wok, a water bottle, masks, signs, and games.\n",
      "\n",
      "    Best,\n",
      "    Party bear\n",
      "    \n",
      "    ---\n",
      "\n",
      "\n",
      "    Hey, Jason!\n",
      "    You are invited to a gathering! Join us on July 20th at Union Square!\n",
      "    Bring an umbrella, a wok, a water bottle, masks, signs, and games.\n",
      "\n",
      "    Best,\n",
      "    Party bear\n",
      "    \n",
      "    ---\n",
      "\n",
      "\n",
      "    Hey, Sven and friends!\n",
      "    You are invited to a gathering! Join us on July 20th at Union Square!\n",
      "    Bring an umbrella, a wok, a water bottle, masks, signs, and games.\n",
      "\n",
      "    Best,\n",
      "    Party bear\n",
      "    \n",
      "    ---\n",
      "\n"
     ]
    }
   ],
   "source": [
    "# Let's compile and populate!\n",
    "createInvitations(guestlist,event_type,date,location,items)"
   ]
  },
  {
   "cell_type": "markdown",
   "metadata": {},
   "source": [
    "## Next steps\n",
    "1. Check out [String Documentation](https://docs.python.org/2.5/lib/string-methods.html), [List Documentation](https://docs.python.org/3/tutorial/datastructures.html#more-on-lists), and  [Tuple Documentation](https://docs.python.org/3/tutorial/datastructures.html#tuples-and-sequences)\n",
    "1. We have cheatsheets made for [strings, lists and tuples](https://github.com/parsons-python-summer-2020/python/tree/master/Week_03/cheatsheets)\n",
    "1. \n",
    "\n",
    "\n",
    "Some improvement you can make with this current code:\n",
    "> 1. How to ask our guests to individually bring a random object from the list of items?\n",
    "> 1. How to encrpyt some parts of our invitation using string methods?\n"
   ]
  },
  {
   "cell_type": "code",
   "execution_count": null,
   "metadata": {},
   "outputs": [],
   "source": []
  }
 ],
 "metadata": {
  "kernelspec": {
   "display_name": "Python 3",
   "language": "python",
   "name": "python3"
  },
  "language_info": {
   "codemirror_mode": {
    "name": "ipython",
    "version": 3
   },
   "file_extension": ".py",
   "mimetype": "text/x-python",
   "name": "python",
   "nbconvert_exporter": "python",
   "pygments_lexer": "ipython3",
   "version": "3.7.4"
  }
 },
 "nbformat": 4,
 "nbformat_minor": 2
}
