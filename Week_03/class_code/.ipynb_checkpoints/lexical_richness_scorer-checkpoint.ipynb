{
 "cells": [
  {
   "cell_type": "markdown",
   "metadata": {},
   "source": [
    "# Get the 'lexical richness' of a piece of text\n",
    "\n",
    "We're going to write a function that accepts any input text. It will return to us a \"lexical richness score\" for that text.\n",
    "\n",
    "In the process, we're going to see the following in use:\n",
    "\n",
    "- Strings\n",
    "- String methods\n",
    "- Lists\n",
    "- List methods\n",
    "- Mathematical operations\n",
    "- Functions"
   ]
  },
  {
   "cell_type": "code",
   "execution_count": 88,
   "metadata": {},
   "outputs": [],
   "source": [
    "# Store string data in a variable called 'text'.\n",
    "# (This string is from 'Doorway to Distruction,'\n",
    "# a randomly chosen book from the Gutenberg Library of ebooks).\n",
    "\n",
    "text = \"\"\"\n",
    "Old Kelvin Martin strained futilely against the rope that held\n",
    "immovable his thin wrists. A crimsoned bruise raced across his forehead\n",
    "where Vance had slugged him with a heavy hand.\n",
    "\n",
    "\"Don't be a complete fool, Vance!\" he said harshly. \"That machine can't\n",
    "bring you anything but trouble!\"\n",
    "\n",
    "The scientist's burly assistant glanced wearily up from where he\n",
    "coupled heavy batteries in series at the rear of the glittering machine\n",
    "that entirely filled one corner of the windowless room.\n",
    "\"\"\""
   ]
  },
  {
   "cell_type": "code",
   "execution_count": 35,
   "metadata": {},
   "outputs": [
    {
     "name": "stdout",
     "output_type": "stream",
     "text": [
      "\n",
      "Old Kelvin Martin strained futilely against the rope that held\n",
      "immovable his thin wrists. A crimsoned bruise raced across his forehead\n",
      "where Vance had slugged him with a heavy hand.\n",
      "\n",
      "\"Don't be a complete fool, Vance!\" he said harshly. \"That machine can't\n",
      "bring you anything but trouble!\"\n",
      "\n",
      "The scientist's burly assistant glanced wearily up from where he\n",
      "coupled heavy batteries in series at the rear of the glittering machine\n",
      "that entirely filled one corner of the windowless room.\n",
      "\n"
     ]
    }
   ],
   "source": [
    "# Print the text.\n",
    "\n",
    "print(text)"
   ]
  },
  {
   "cell_type": "code",
   "execution_count": 41,
   "metadata": {},
   "outputs": [
    {
     "name": "stdout",
     "output_type": "stream",
     "text": [
      "\n",
      "old kelvin martin strained futilely against the rope that held\n",
      "immovable his thin wrists. a crimsoned bruise raced across his forehead\n",
      "where vance had slugged him with a heavy hand.\n",
      "\n",
      "\"don't be a complete fool, vance!\" he said harshly. \"that machine can't\n",
      "bring you anything but trouble!\"\n",
      "\n",
      "the scientist's burly assistant glanced wearily up from where he\n",
      "coupled heavy batteries in series at the rear of the glittering machine\n",
      "that entirely filled one corner of the windowless room.\n",
      "\n"
     ]
    }
   ],
   "source": [
    "# Lowercase all text.\n",
    "\n",
    "text_lower = text.lower()\n",
    "print(text_lower)"
   ]
  },
  {
   "cell_type": "code",
   "execution_count": 58,
   "metadata": {},
   "outputs": [
    {
     "name": "stdout",
     "output_type": "stream",
     "text": [
      "\n",
      "old kelvin martin strained futilely against the rope that held\n",
      "immovable his thin wrists a crimsoned bruise raced across his forehead\n",
      "where vance had slugged him with a heavy hand\n",
      "\n",
      "don't be a complete fool vance he said harshly that machine can't\n",
      "bring you anything but trouble\n",
      "\n",
      "the scientist's burly assistant glanced wearily up from where he\n",
      "coupled heavy batteries in series at the rear of the glittering machine\n",
      "that entirely filled one corner of the windowless room\n",
      "\n"
     ]
    }
   ],
   "source": [
    "# Remove all unnecessary punctuation.\n",
    "# Note that there are better ways to do this that we haven't yet learned.\n",
    "\n",
    "text_clean = text_lower.replace('\"', '').replace('.', '').replace('!', '').replace(',', '')\n",
    "print(text_clean)"
   ]
  },
  {
   "cell_type": "code",
   "execution_count": 59,
   "metadata": {},
   "outputs": [
    {
     "name": "stdout",
     "output_type": "stream",
     "text": [
      "['old', 'kelvin', 'martin', 'strained', 'futilely', 'against', 'the', 'rope', 'that', 'held', 'immovable', 'his', 'thin', 'wrists', 'a', 'crimsoned', 'bruise', 'raced', 'across', 'his', 'forehead', 'where', 'vance', 'had', 'slugged', 'him', 'with', 'a', 'heavy', 'hand', \"don't\", 'be', 'a', 'complete', 'fool', 'vance', 'he', 'said', 'harshly', 'that', 'machine', \"can't\", 'bring', 'you', 'anything', 'but', 'trouble', 'the', \"scientist's\", 'burly', 'assistant', 'glanced', 'wearily', 'up', 'from', 'where', 'he', 'coupled', 'heavy', 'batteries', 'in', 'series', 'at', 'the', 'rear', 'of', 'the', 'glittering', 'machine', 'that', 'entirely', 'filled', 'one', 'corner', 'of', 'the', 'windowless', 'room']\n"
     ]
    }
   ],
   "source": [
    "# Split the text into a list of words separated by whitespace.\n",
    "\n",
    "text_data = text_clean.split()\n",
    "print(text_data)"
   ]
  },
  {
   "cell_type": "code",
   "execution_count": 60,
   "metadata": {},
   "outputs": [
    {
     "name": "stdout",
     "output_type": "stream",
     "text": [
      "['a', 'a', 'a', 'across', 'against', 'anything', 'assistant', 'at', 'batteries', 'be', 'bring', 'bruise', 'burly', 'but', \"can't\", 'complete', 'corner', 'coupled', 'crimsoned', \"don't\", 'entirely', 'filled', 'fool', 'forehead', 'from', 'futilely', 'glanced', 'glittering', 'had', 'hand', 'harshly', 'he', 'he', 'heavy', 'heavy', 'held', 'him', 'his', 'his', 'immovable', 'in', 'kelvin', 'machine', 'machine', 'martin', 'of', 'of', 'old', 'one', 'raced', 'rear', 'room', 'rope', 'said', \"scientist's\", 'series', 'slugged', 'strained', 'that', 'that', 'that', 'the', 'the', 'the', 'the', 'the', 'thin', 'trouble', 'up', 'vance', 'vance', 'wearily', 'where', 'where', 'windowless', 'with', 'wrists', 'you']\n"
     ]
    }
   ],
   "source": [
    "# Sort the list alphabetically.\n",
    "\n",
    "text_data.sort()\n",
    "print(text_data)"
   ]
  },
  {
   "cell_type": "code",
   "execution_count": 73,
   "metadata": {},
   "outputs": [
    {
     "name": "stdout",
     "output_type": "stream",
     "text": [
      "78\n"
     ]
    }
   ],
   "source": [
    "# Count the total number of words.\n",
    "\n",
    "num_words = len(text_data)\n",
    "print(num_words)"
   ]
  },
  {
   "cell_type": "code",
   "execution_count": 69,
   "metadata": {},
   "outputs": [
    {
     "name": "stdout",
     "output_type": "stream",
     "text": [
      "['a', 'across', 'against', 'anything', 'assistant', 'at', 'batteries', 'be', 'bring', 'bruise', 'burly', 'but', \"can't\", 'complete', 'corner', 'coupled', 'crimsoned', \"don't\", 'entirely', 'filled', 'fool', 'forehead', 'from', 'futilely', 'glanced', 'glittering', 'had', 'hand', 'harshly', 'he', 'heavy', 'held', 'him', 'his', 'immovable', 'in', 'kelvin', 'machine', 'martin', 'of', 'old', 'one', 'raced', 'rear', 'room', 'rope', 'said', \"scientist's\", 'series', 'slugged', 'strained', 'that', 'the', 'thin', 'trouble', 'up', 'vance', 'wearily', 'where', 'windowless', 'with', 'wrists', 'you']\n"
     ]
    }
   ],
   "source": [
    "# Let's make a unique list of words.\n",
    "# I.e. every word in the text is including in this list\n",
    "# exactly once.\n",
    "\n",
    "unique_words = []\n",
    "\n",
    "for word in text_data:\n",
    "    if word not in unique_words:\n",
    "        unique_words.append(word)\n",
    "\n",
    "print(unique_words)"
   ]
  },
  {
   "cell_type": "code",
   "execution_count": 74,
   "metadata": {},
   "outputs": [
    {
     "name": "stdout",
     "output_type": "stream",
     "text": [
      "63\n"
     ]
    }
   ],
   "source": [
    "# Let's count the number of unique words.\n",
    "\n",
    "num_unique_words = len(unique_words)\n",
    "print(num_unique_words)"
   ]
  },
  {
   "cell_type": "code",
   "execution_count": 75,
   "metadata": {},
   "outputs": [
    {
     "data": {
      "text/plain": [
       "0.8076923076923077"
      ]
     },
     "execution_count": 75,
     "metadata": {},
     "output_type": "execute_result"
    }
   ],
   "source": [
    "# This is enough information for a decent\n",
    "# measure of lexical \"richness\".\n",
    "\n",
    "num_unique_words / num_words"
   ]
  },
  {
   "cell_type": "code",
   "execution_count": 82,
   "metadata": {},
   "outputs": [],
   "source": [
    "# Let's make all of this into a function.\n",
    "\n",
    "def printLexicalRichness(text):\n",
    "    # Lowercase the text\n",
    "    text_lower = text.lower()\n",
    "    # Clean unnecessary punctuation\n",
    "    text_clean = text_lower.replace('\"', '').replace('.', '').replace('!', '').replace(',', '')\n",
    "    # Split text into list\n",
    "    text_data = text_clean.split()\n",
    "    # Get the total words in the list\n",
    "    num_words = len(text_data)\n",
    "    # Make a separate unique list\n",
    "    unique_words = []\n",
    "    for word in text_data:\n",
    "        if word not in unique_words:\n",
    "            unique_words.append(word)\n",
    "    # Get the number of unique words\n",
    "    num_unique_words = len(unique_words)\n",
    "    \n",
    "    # Print the stat.\n",
    "    print(num_unique_words / num_words)"
   ]
  },
  {
   "cell_type": "code",
   "execution_count": 1,
   "metadata": {},
   "outputs": [
    {
     "ename": "NameError",
     "evalue": "name 'printLexicalRichness' is not defined",
     "output_type": "error",
     "traceback": [
      "\u001b[0;31m---------------------------------------------------------------------------\u001b[0m",
      "\u001b[0;31mNameError\u001b[0m                                 Traceback (most recent call last)",
      "\u001b[0;32m<ipython-input-1-7d01a2530078>\u001b[0m in \u001b[0;36m<module>\u001b[0;34m\u001b[0m\n\u001b[1;32m    305\u001b[0m     _Though my love's constant as the Sun._\"\"\"\n\u001b[1;32m    306\u001b[0m \u001b[0;34m\u001b[0m\u001b[0m\n\u001b[0;32m--> 307\u001b[0;31m \u001b[0mprintLexicalRichness\u001b[0m\u001b[0;34m(\u001b[0m\u001b[0mbook\u001b[0m\u001b[0;34m)\u001b[0m\u001b[0;34m\u001b[0m\u001b[0;34m\u001b[0m\u001b[0m\n\u001b[0m",
      "\u001b[0;31mNameError\u001b[0m: name 'printLexicalRichness' is not defined"
     ]
    }
   ],
   "source": [
    "# Rather than get the richness of just a couple lines,\n",
    "# let's get the richness of a huge chunk of text.\n",
    "\n",
    "book = \"\"\"\n",
    "Special Investigator Billy Neville was annoyed, and for more reasons\n",
    "than one. He had just done a tedious year in the jungles of Venus\n",
    "stamping out the gooroo racket and then, on his way home to a\n",
    "well-deserved leave and rest, had been diverted to Mars for a swift\n",
    "clean-up of the diamond-mine robbery ring. And now, when he again\n",
    "thought he would be free for a while, he found himself shunted to\n",
    "little Pallas, capital of the Asteroid Confederation. But clever,\n",
    "patient Colonel Frawley, commandant of all the Interplanetary Police in\n",
    "the belt, merely smiled indulgently while Neville blew off his steam.\n",
    "\n",
    "\"You say,\" said Neville, still ruffled, \"that there has been a growing\n",
    "wave of blackmail and extortion all over the System, coupled with a\n",
    "dozen or so instances of well-to-do, respectable persons disappearing\n",
    "without a trace. And you say that that has been going on for a couple\n",
    "of years and several hundred of our crack operatives have been working\n",
    "on it, directed by the best brains of the force, and yet haven't got\n",
    "anywhere. And that up to now there have been no such cases develop in\n",
    "the asteroids. Well, what do you want _me_ for? What's the emergency?\"\n",
    "\n",
    "The colonel laughed and dropped the ash from his cigar, preparatory to\n",
    "lying back in his chair and taking another long, soothing drag. The\n",
    "office of the Chief Inspector of the A.C. division of the I.P. was not\n",
    "only well equipped for the work it had to do, but for comfort.\n",
    "\n",
    "\"I am astonished,\" he remarked, \"to hear an experienced policeman\n",
    "indulge in such loose talk. Who said anything about having had the\n",
    "_best_ brains on the job? Or that no progress had been made? Or that\n",
    "there was no emergency? Any bad crime situation is always an emergency,\n",
    "no matter how long it lasts. Which is all the more reason why we have\n",
    "to break it up, and quickly. I tell you, things are becoming very\n",
    "serious. Lifelong partners in business are becoming suspicious and\n",
    "secretive toward each other; husbands and wives are getting jittery and\n",
    "jealous. Nobody knows whom to trust. The most sacred confidences have a\n",
    "way of leaking out. Then they are in the market for the highest bidder.\n",
    "No boy, this thing is a headache. I never had a worse.\"\n",
    "\n",
    "\"All right, all right,\" growled Neville, resignedly. \"I'm stuck. Shoot!\n",
    "How did it begin, and what do you know?\"\n",
    "\n",
    "       *       *       *       *       *\n",
    "\n",
    "The colonel reached into a drawer and pulled out a fat jacket bulging\n",
    "with papers, photostats, and interdepartmental reports.\n",
    "\n",
    "\"It began,\" he said, \"about two years ago, on Io and Callisto. It\n",
    "spread all over the Jovian System and soured Ganymede and Europa.\n",
    "The symptoms were first the disappearances of several prominent\n",
    "citizens, followed by a wave of bankruptcies and suicides on both\n",
    "planetoids. Nobody complained to the police. Then a squad of our\n",
    "New York men picked up a petty chiseler who was trying to gouge the\n",
    "Jovian Corporation's Tellurian office out of a large sum of money on\n",
    "the strength of some damaging documents he possessed relating to a\n",
    "hidden scandal in the life of the New York manager. From that lead,\n",
    "they picked up a half-dozen other small fry extortionists and even\n",
    "managed to grab their higher-up--a sort of middleman who specialized\n",
    "in exploiting secret commercial information and scandalous material\n",
    "about individuals. There the trail stopped. They put him through the\n",
    "mill, but all he would say is that a man approached him with the\n",
    "portfolio, sold him on its value for extortion purposes, and collected\n",
    "in advance. There could be no follow up for the reason that after the\n",
    "first transaction what profits the local gang could make out of the\n",
    "dirty work would be their own.\"\n",
    "\n",
    "\"Yes,\" said Neville, \"I know the racket. When they handle it that way\n",
    "it's hard to beat. You get any amount of minnows, but the whales get\n",
    "away.\"\n",
    "\n",
    "\"Right. The disturbing thing about the contents of the portfolio was\n",
    "the immense variety of secrets it contained and that it was evidently\n",
    "prepared by one man. There were, for example, secret industrial\n",
    "formulas evidently stolen for sale to a competitor. The bulk of it was\n",
    "other commercial items, such as secret credit reports, business volume,\n",
    "and the like. But there was a good deal of rather nasty personal stuff,\n",
    "too. It was a gold mine of information for an unscrupulous blackmailer,\n",
    "and every bit of it originated on Callisto. Now, whom do you think,\n",
    "could have been in a position to compile it?\"\n",
    "\n",
    "\"The biggest corporation lawyer there, I should guess,\" said Neville.\n",
    "\"Priests and doctors know a lot of personal secrets, but a good lawyer\n",
    "manages to learn most everything.\"\n",
    "\n",
    "\"Right. Very right. We sent men to Callisto and learned that some\n",
    "months earlier the most prominent lawyer of the place had announced one\n",
    "day he must go over to Io to arrange some contracts. He went to Io,\n",
    "all right, but was never seen again after he stepped out of the ship.\n",
    "It was shortly after, that the wave of Callistan suicides and business\n",
    "failures took place.\"\n",
    "\n",
    "\"All right,\" agreed Neville, \"so what? It has happened before. Even the\n",
    "big ones go wrong now and then.\"\n",
    "\n",
    "\"Yes, but wait. That fellow had nothing to go wrong about. He was\n",
    "tremendously successful, rich, happily married, and highly respected\n",
    "for his outstanding integrity. Yet he could hardly have been kidnaped,\n",
    "as there has never been a ransom demand. Nor has there ever been such a\n",
    "demand in any of the other cases similar to it.\n",
    "\n",
    "\"The next case to be partially explained was that of the disappearance\n",
    "of the president of the Jupiter Trust Company at Ionopolis. All the\n",
    "most vital secrets of that bank turned up later in all parts of the\n",
    "civilized system. We nabbed some peddlers, but it was the same story\n",
    "as with the first gang. The facts are all here in this jacket. After a\n",
    "little you can read the whole thing in detail.\"\n",
    "\n",
    "\"Uh, huh,\" grunted Neville, \"I'm beginning to see. But why _me_, and\n",
    "why at Pallas?\"\n",
    "\n",
    "\"Because you've never worked in the asteroids and are not known here\n",
    "to any but the higher officers. Among other secrets this ring has, are\n",
    "a number of police secrets. That is why setting traps for them is so\n",
    "difficult. I haven't told you that one of their victims seems to have\n",
    "been one of us. That was Jack Sarkins, who was district commander at\n",
    "Patroclus. He received an apparently genuine ethergram one day--and it\n",
    "was in our most secret code--telling him to report to Mars at once.\n",
    "He went off, alone, in his police rocket. He never got there. As to\n",
    "Pallas, the reason you are here is because the place so far is clean.\n",
    "Their system is to work a place just once and never come back. They\n",
    "milk it dry the first time and there is no need to. Since we have no\n",
    "luck tracing them after the crime, we are going to try a plant and wait\n",
    "for the crime to come to it. You are the plant.\"\n",
    "\n",
    "\"I see,\" said Neville slowly. He was interested, but not enthusiastic.\n",
    "\"Some day, somehow, someone is coming here and in some manner\n",
    "force someone to yield up all the local dirt and then arrange his\n",
    "disappearance. My role is to break it up before it happens. Sweet!\"\n",
    "\n",
    "\"You have such a way of putting things, Neville,\" chuckled the colonel,\n",
    "\"but you do get the point.\"\n",
    "\n",
    "He rose and pushed the heavy folder toward his new aide.\n",
    "\n",
    "\"Bone this the rest of the afternoon. I'll be back.\"\n",
    "\n",
    "       *       *       *       *       *\n",
    "\n",
    "It was quite late when Colonel Frawley returned and asked Neville\n",
    "cheerily how he was getting on.\n",
    "\n",
    "\"I have the history,\" Neville answered, slamming the folder shut, \"and\n",
    "a glimmering of what you are shooting at. This guy Simeon Carstairs, I\n",
    "take it, is the local man you have picked as the most likely prospect\n",
    "for your Master Mind crook to work on?\"\n",
    "\n",
    "\"He is. He is perfect bait. He is the sole owner of the Radiation\n",
    "Extraction Company which has a secret process that Tellurian Radiant\n",
    "Corporation has made a standing offer of five millions for. He controls\n",
    "the local bank and often sits as magistrate. In addition, he has\n",
    "substantial interests in Vesta and Juno industries. He probably knows\n",
    "more about the asteroids and the people on them than any other living\n",
    "man. Moreover, his present wife is a woman with an unhappy past and who\n",
    "happens also to be related to an extremely wealthy Argentine family.\n",
    "Any ring of extortionists who could worm old Simeon's secrets out of\n",
    "him could write their own ticket.\"\n",
    "\n",
    "\"So I am to be a sort of private shadow.\"\n",
    "\n",
    "\"Not a bit of it. _I_ am his bodyguard. We are close friends and lately\n",
    "I have made it a rule to be with him part of the time every day. No,\n",
    "your role is that of observer from the sidelines. I shall introduce\n",
    "you as the traveling representative of the London uniform house that\n",
    "has the police contract. That will explain your presence here and your\n",
    "occasional calls at headquarters. You might sell a few suits of clothes\n",
    "on the side, or at least solicit them. Work that out for yourself.\"\n",
    "\n",
    "Neville grimaced. He was not fond of plainclothes work.\n",
    "\n",
    "\"But come, fellow. You've worked hard enough for one day. Go up to\n",
    "my room and get into cits. Then I'll take you over to the town and\n",
    "introduce you around. After that we'll go to a show. The showboat\n",
    "landed about an hour ago.\"\n",
    "\n",
    "\"Showboat? What the hell is a showboat?\"\n",
    "\n",
    "\"I forget,\" said the colonel, \"that your work has been mostly on the\n",
    "heavy planets where they have plenty of good playhouses in the cities.\n",
    "Out here among these little rocks the diversions are brought around\n",
    "periodically and peddled for the night. The showboat, my boy, is a\n",
    "floating theater--a space ship with a stage and an auditorium in it, a\n",
    "troupe of good actors and a cracking fine chorus. This one has been\n",
    "making the rounds quite a while, though it never stopped here before\n",
    "until last year. They say the show this year is even better. It is the\n",
    "\"Lunar Follies of 2326,\" featuring a chorus of two hundred androids\n",
    "and with Lilly Fitzpatrick and Lionel Dustan in the lead. Tonight, for\n",
    "a change, you can relax and enjoy yourself. We can get down to brass\n",
    "tacks tomorrow.\"\n",
    "\n",
    "\"Thanks, chief,\" said Neville, grinning from ear to ear. The\n",
    "description of the showboat was music to his ears, for it had been\n",
    "a long time since he had seen a good comedy and he felt the need of\n",
    "relief from his sordid workaday life.\n",
    "\n",
    "\"When you're in your makeup,\" the colonel added, \"come on down and I'll\n",
    "take you over in my copter.\"\n",
    "\n",
    "       *       *       *       *       *\n",
    "\n",
    "It did not take Billy Neville long to make his transformation to the\n",
    "personality of a clothing drummer. Every special cop had to be an\n",
    "expert at the art of quick shifts of disguise and Neville was rather\n",
    "better than most. Nor did it take long for the little blue copter to\n",
    "whisk them halfway around the knobby little planetoid of Pallas. It\n",
    "eased itself through an airlock into a doomed town, and there the\n",
    "colonel left it with his orderly.\n",
    "\n",
    "The town itself possessed little interest for Neville though his\n",
    "trained photographic eye missed few of its details. It was much like\n",
    "the smaller doomed settlements on the Moon. He was more interested\n",
    "in meeting the local magnate, whom they found in his office in the\n",
    "Carstairs Building. The colonel made the introductions, during which\n",
    "Neville sized up the man. He was of fair height, stockily built, and\n",
    "had remarkably frank and friendly eyes for a self-made man of the\n",
    "asteroids. Not that there was not a certain hardness about him and a\n",
    "considerable degree of shrewdness, but he lacked the cynical cunning\n",
    "so often displayed by the pioneers of the outer system. Neville noted\n",
    "other details as well--the beginning of a set of triple chins, a little\n",
    "brown mole with three hairs on it alongside his nose, and the way a\n",
    "stray lock of hair kept falling over his left eye.\n",
    "\n",
    "\"Let's go,\" said the colonel, as soon as the formalities were over.\n",
    "\n",
    "Neville had to borrow a breathing helmet from Mr. Carstairs, for he had\n",
    "not one of his own and they had to walk from the far portal of the dome\n",
    "across the field to where the showboat lay parked. He thought wryly,\n",
    "as he put it on, that he went from one extreme to another--from Venus,\n",
    "where the air was over-moist, heavy and oppressive from its stagnation,\n",
    "to windy, blustery Mars, and then here, where there was no air at all.\n",
    "\n",
    "As they approached the grounded ship they saw it was all lit up and\n",
    "throngs of people were approaching from all sides. Flood lamps threw\n",
    "great letters on the side of the silvery hull reading, \"Greatest Show\n",
    "of the Void--Come One, Come All--Your Money Back if Not Absolutely\n",
    "Satisfied.\" They went ahead of the queue, thanks to the prestige of\n",
    "the colonel and the local tycoon, and were instantly admitted. It took\n",
    "but a moment to check their breathers at the helmet room and then the\n",
    "ushers had them in tow.\n",
    "\n",
    "\"See you after the show, Mr. Allington,\" said the colonel to Neville,\n",
    "\"I will be in Mr. Carstairs box.\"\n",
    "\n",
    "       *       *       *       *       *\n",
    "\n",
    "Neville sank into a seat and watched them go. Then he began to take\n",
    "stock of the playhouse. The seats were comfortable and commodious,\n",
    "evidently having been designed to hold patrons clad in heavy-dust\n",
    "space-suits. The auditorium was almost circular, one semi-circle being\n",
    "taken up by the stage, the other by the tiers of seats. Overhead ranged\n",
    "a row of boxes jutting out above the spectators below. Neville puzzled\n",
    "for a long time over the curtain that shut off the stage. It seemed\n",
    "very unreal, like the shimmer of the aurora, but it affected vision to\n",
    "the extent that the beholder could not say with any certainty _what_\n",
    "was behind it. It was like looking through a waterfall. Then there was\n",
    "eerie music, too, from an unseen source, flooding the air with queer\n",
    "melodies. People continued to pour in. The house gradually darkened and\n",
    "as it did the volume and wildness of the music rose. Then there was a\n",
    "deep bong, and lights went completely out for a full second. The show\n",
    "was on.\n",
    "\n",
    "Neville sat back and enjoyed it. He could not have done otherwise,\n",
    "for the sign on the hull had not been an empty plug. It was the best\n",
    "show in the void--or anywhere else, for that matter. A spectral voice\n",
    "that seemed to come from everywhere in the house announced the first\n",
    "number--The Dance of the Wood-sprites of Venus. Instantly little\n",
    "flickers of light appeared throughout the house--a mass of vari-colored\n",
    "fireflies blinking off and on and swirling in dizzy spirals. They\n",
    "steadied and grew, coalesced into blobs of living fire--ruby, dazzling\n",
    "green, ethereal blue and yellow. They swelled and shrank, took on\n",
    "human forms only to abandon them; purple serpentine figures writhed\n",
    "among them, paling to silvery smoke and then expiring as a shower of\n",
    "violet sparks. And throughout was the steady, maddening rhythm of the\n",
    "dance tune, unutterably savage and haunting--a folk dance of the hill\n",
    "tribes of Venus. At last, when the sheer beauty of it began to lull\n",
    "the viewers into a hypnotic trance, there came the shrill blare of\n",
    "massed trumpets and the throb of mighty tom-toms culminating in an\n",
    "ear-shattering discord that broke the spell.\n",
    "\n",
    "The lights were on. The stage was bare. Neville sat up straighter and\n",
    "looked, blinking. It was as if he were in an abandoned warehouse. And\n",
    "then the scenery began to grow. Yes, grow. Almost imperceptible it was,\n",
    "at first, then more distinct. Nebulous bodies appeared, wisps of smoke.\n",
    "They wavered, took on shape, took on color, took on the appearance of\n",
    "solidity. The scent began to have meaning. Part of the background was a\n",
    "gray cliff undercut with a yawning cave. It was a scene from the Moon,\n",
    "a hangout of the cliffdwellers, those refugees from civilization who\n",
    "chose to live the wild life of the undomed Moon rather than submit to\n",
    "the demands of a more ordered life.\n",
    "\n",
    "Characters came on. There was a little drama, well conceived and well\n",
    "acted. When it was over, the scene vanished as it had come. A comedy\n",
    "team came out next and this time the appropriate scenery materialized\n",
    "at once as one of them stumbled over an imaginary log and fell on his\n",
    "face. The log was not there when he tripped, but it was there by the\n",
    "time his nose hit the stage, neatly turning the joke on his companion\n",
    "who had started to laugh at his unreasonable fall.\n",
    "\n",
    "On the show went, one scene swiftly succeeding the next. A song that\n",
    "took the fancy of the crowd was a plaintive ballad. It ran:\n",
    "\n",
    "    _They tell me you did not treat me right,_\n",
    "    _Nor are grateful for all I've done._\n",
    "    _I fear you're fickle as a meteorite_\n",
    "    _Though my love's constant as the Sun._\"\"\"\n",
    "\n",
    "printLexicalRichness(book)"
   ]
  },
  {
   "cell_type": "markdown",
   "metadata": {},
   "source": [
    "# Going further\n",
    "\n",
    "- What other stats can you get?\n",
    "  - longest word?\n",
    "  - shortest word?\n",
    "  - most frequent word?\n",
    "- For the super adventurers\n",
    "  - check out nltk, we'll cover this more later, but you can get a head start"
   ]
  },
  {
   "cell_type": "code",
   "execution_count": null,
   "metadata": {},
   "outputs": [],
   "source": []
  }
 ],
 "metadata": {
  "kernelspec": {
   "display_name": "Python 3",
   "language": "python",
   "name": "python3"
  },
  "language_info": {
   "codemirror_mode": {
    "name": "ipython",
    "version": 3
   },
   "file_extension": ".py",
   "mimetype": "text/x-python",
   "name": "python",
   "nbconvert_exporter": "python",
   "pygments_lexer": "ipython3",
   "version": "3.7.6"
  }
 },
 "nbformat": 4,
 "nbformat_minor": 2
}
