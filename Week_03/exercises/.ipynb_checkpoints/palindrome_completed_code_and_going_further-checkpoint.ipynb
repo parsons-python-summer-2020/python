{
 "cells": [
  {
   "cell_type": "markdown",
   "metadata": {},
   "source": [
    "# Palindrome - completed code & going further\n",
    "\n",
    "## What is a palindrome?\n",
    "A palindrome is a word or phrase that is spelled the same forwards as backwards, like `wow`.  Capitalization, whitespace, and punctuation are often ignored, so examples like `Anna`, `race car`, and `Was it a cat I saw?` are also palindromes.\n",
    "\n",
    "<hr>\n",
    "\n",
    "## What are we going to make?\n",
    "We are going to create a function that checks whether or not a given phrase is a palindrome. Here are our guidelines:\n",
    "* Our function will be called `isPalindrome()`.\n",
    "* It will accept one **argument** called `txt`, which is a string.\n",
    "* It will **return** either True (if `txt` is a palindrome) or `False` (if `txt`\n",
    "  is not a palindrome).\n",
    "  \n",
    "<hr>\n",
    "\n",
    "## How can we test along the way?\n",
    "We will use the following test cases to check our function as we build it:\n",
    "\n",
    "The following should all return `True`:\n",
    "```\n",
    "isPalindrome('wow')\n",
    "isPalindrome('12a3a21')\n",
    "isPalindrome('Anna')\n",
    "isPalindrome('race car')\n",
    "isPalindrome('Was it a cat I saw?')\n",
    "```\n",
    "\n",
    "The following should all return `False`:\n",
    "```\n",
    "isPalindrome('wowza')\n",
    "isPalindrome('123a21')\n",
    "isPalindrome('<3 mom <3')\n",
    "```"
   ]
  },
  {
   "cell_type": "markdown",
   "metadata": {},
   "source": [
    "# Class review\n",
    "\n",
    "## Recommended for evereyone:\n",
    "\n",
    "- Below is the code we wrote in class together, with a few tweaks.\n",
    "- Read it, and try to explain it to another (real or imaginary) human, line by line.\n",
    "- If you have any questions, write them down.\n",
    "    - Look your questions up online\n",
    "    - Investigate your questions by playing with the code\n",
    "    - Or bring your questions to a tutoring session to discuss together"
   ]
  },
  {
   "cell_type": "code",
   "execution_count": 1,
   "metadata": {},
   "outputs": [],
   "source": [
    "# Define our function, called isPalindrome().\n",
    "def isPalindrome(txt):\n",
    "    \"\"\"Check whether input text is a palindrome.\n",
    "    \n",
    "    Return True if input text is a palindrome, and\n",
    "    False if input text is not a palindrome.\n",
    "    \n",
    "    Arguments\n",
    "        txt (String): input text to check\n",
    "    Returns\n",
    "        answer (Boolean): whether or not text is a palindrome\n",
    "    \"\"\"\n",
    "    # Normalize the string\n",
    "    # Lowercase all of the text (e.g. Anna -> anna)\n",
    "    txt = txt.lower()\n",
    "    txt = txt.replace(' ', '')\n",
    "    txt = txt.replace('?', '')\n",
    "    \n",
    "    # Get the string spelled forward\n",
    "    forward = txt\n",
    "    \n",
    "    # Get the string spelled backward\n",
    "    backward = txt[::-1]\n",
    "    \n",
    "    # If the two strings are equal, then the answer is True\n",
    "    # Else, the answer is False\n",
    "    if forward == backward:\n",
    "        answer = True\n",
    "    else:\n",
    "        answer = False\n",
    "\n",
    "    # Return the answer (either True/False)\n",
    "    return answer\n"
   ]
  },
  {
   "cell_type": "markdown",
   "metadata": {},
   "source": [
    "# Going further\n",
    "\n",
    "## Recommended for people looking for a bit more challenge:\n",
    "\n",
    "- Read the following cell of code.\n",
    "- Note that there are `TODO` comments throughout the code. `TODO` is a [conventional](https://stackoverflow.com/questions/9499039/where-does-the-todo-convention-come-from#:~:text=TODO%20means%20%22to%20do%22.,someone%20will%20need%20to%20do.)\n",
    "  placeholder a yet-to-be-completed task.\n",
    "- Add comments to the code where the `TODOs` instruct.\n",
    "   - Some tactics for understanding what the code does:\n",
    "       - Comment out certain parts and re-run the code. See what happens differently.\n",
    "       - Add `print()` statements thoughout.\n",
    "- Uncomment the last two lines where the final `TODO` instructs.\n",
    "   - What happens? Can you explain why?\n",
    "   - Edit the `isPalindrome()` function above so that the final two lines `Pass`.\n",
    "- In a new cell at the bottom of the notebook, try running the following code:\n",
    "\n",
    "```\n",
    "import re\n",
    "    \n",
    "txt = 'Hello!?'\n",
    "txt = re.sub('[^\\w\\d]', '', txt)\n",
    "print(txt)\n",
    "```\n",
    "\n",
    "- What is `re`? Why might we have shown you this?"
   ]
  },
  {
   "cell_type": "code",
   "execution_count": 2,
   "metadata": {},
   "outputs": [
    {
     "name": "stdout",
     "output_type": "stream",
     "text": [
      "Pass\n",
      "Pass\n",
      "Pass\n",
      "Pass\n",
      "Pass\n",
      "Pass\n",
      "Pass\n",
      "Pass\n"
     ]
    }
   ],
   "source": [
    "def test(condition, result):\n",
    "    \"\"\"TODO: Add a short descirption of the function here.\n",
    "    \n",
    "    Arguments:\n",
    "        TODO: Add arguments description here, if applicable.\n",
    "    \"\"\"\n",
    "    # TODO: Add comment\n",
    "    if isPalindrome(condition) == result:\n",
    "        print('Pass')\n",
    "    # TODO: Add comment\n",
    "    else:\n",
    "        print ('Fail')\n",
    "\n",
    "# TODO: Add comment\n",
    "test('wow', True)\n",
    "test('12a3a21', True)\n",
    "test('Anna', True)\n",
    "test('race car', True)\n",
    "test('Was it a cat I saw?', True)\n",
    "test('wowza', False)\n",
    "test('123a21', False)\n",
    "test('<3 mom <3', False)\n",
    "# TODO: Uncomment the following lines\n",
    "# test('Was it a cat I saw?!', True)\n",
    "# test('race-car', True)"
   ]
  },
  {
   "cell_type": "markdown",
   "metadata": {},
   "source": [
    "# Example creative work\n",
    "\n",
    "## Recommended for anyone interested in *creative* coding\n",
    "\n",
    "Read [2002: A Palindrome Story by Nick Montfort & William Gillespie](http://spinelessbooks.com/2002/palindrome/index.html).<br>\n",
    "\n",
    "- How might this be made?\n",
    "- What else could you imagine making with the code we've written here?"
   ]
  },
  {
   "cell_type": "code",
   "execution_count": null,
   "metadata": {},
   "outputs": [],
   "source": []
  }
 ],
 "metadata": {
  "kernelspec": {
   "display_name": "Python 3",
   "language": "python",
   "name": "python3"
  },
  "language_info": {
   "codemirror_mode": {
    "name": "ipython",
    "version": 3
   },
   "file_extension": ".py",
   "mimetype": "text/x-python",
   "name": "python",
   "nbconvert_exporter": "python",
   "pygments_lexer": "ipython3",
   "version": "3.7.6"
  }
 },
 "nbformat": 4,
 "nbformat_minor": 2
}
