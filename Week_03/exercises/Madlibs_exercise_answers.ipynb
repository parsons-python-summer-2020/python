{
 "cells": [
  {
   "cell_type": "markdown",
   "metadata": {},
   "source": [
    "# Encrypted Invitation woo!\n",
    "\n",
    "This exercise is built based on the madlibs invitation generator we made in class.\n",
    "\n",
    "We are going to create an encrypted event `invitation function`.\n",
    "\n",
    "<span style=\"color:tomato\">The starter string</span>:\n",
    "```\n",
    "    Let's play games on Thursday\n",
    "    \n",
    "```\n",
    "\n",
    "<span style=\"color:tomato\">The ending outcomes</span>:\n",
    "1. a reversed message\n",
    "\n",
    "```\n",
    "\n",
    "    \"yadsruhT no semag yalp s'teL\"\n",
    "\n",
    "\n",
    "```\n",
    "\n",
    "2. a dashed message \n",
    "\n",
    "```\n",
    "\n",
    "    \"L-e-t-'-s- -p-l-a-y- -g-a-m-e-s- -o-n- -T-h-u-r-s-d-a-y\"\n",
    "    \n",
    "```\n",
    "\n",
    "3. numbered message\n",
    "\n",
    "```\n",
    "\n",
    "    Let's play games on day 4 of the week\n",
    "    I want to see you on day 3 of the week\n",
    "    \n",
    "```"
   ]
  },
  {
   "cell_type": "code",
   "execution_count": 60,
   "metadata": {},
   "outputs": [
    {
     "name": "stdout",
     "output_type": "stream",
     "text": [
      "yadsruhT no semag yalp s'teL\n"
     ]
    }
   ],
   "source": [
    "# reversed message solution\n",
    "string = \"Let's play games on Thursday\"\n",
    "print(string[::-1])"
   ]
  },
  {
   "cell_type": "code",
   "execution_count": 61,
   "metadata": {},
   "outputs": [
    {
     "name": "stdout",
     "output_type": "stream",
     "text": [
      "L-e-t-'-s- -p-l-a-y- -g-a-m-e-s- -o-n- -T-h-u-r-s-d-a-y\n"
     ]
    }
   ],
   "source": [
    "# dashed string solution\n",
    "string = \"Let's play games on Thursday\"\n",
    "newstring = '-'.join(string)\n",
    "print(newstring)"
   ]
  },
  {
   "cell_type": "code",
   "execution_count": 62,
   "metadata": {},
   "outputs": [
    {
     "name": "stdout",
     "output_type": "stream",
     "text": [
      "Let's play games on day 6 of the week.\n"
     ]
    }
   ],
   "source": [
    "# numbered message solution\n",
    "def daytonum(str):\n",
    "    days = ['Monday','Tuesday','Wednesday','Thursday','Friday','Saturday','Sunday']\n",
    "    day_check = str.split(' ')[-1]\n",
    "    print(\"Let's play games on day %d of the week.\" % (days.index(day_check) + 1))\n",
    "\n",
    "daytonum(\"I want to see you on Saturday\")"
   ]
  },
  {
   "cell_type": "code",
   "execution_count": 63,
   "metadata": {},
   "outputs": [
    {
     "name": "stdout",
     "output_type": "stream",
     "text": [
      "Let's play games on Thursday\n"
     ]
    }
   ],
   "source": [
    "string = \"Let's play games on Thursday\"\n",
    "string.replace('play','AA')\n",
    "print(string)"
   ]
  },
  {
   "cell_type": "code",
   "execution_count": null,
   "metadata": {},
   "outputs": [],
   "source": []
  }
 ],
 "metadata": {
  "kernelspec": {
   "display_name": "Python 3",
   "language": "python",
   "name": "python3"
  },
  "language_info": {
   "codemirror_mode": {
    "name": "ipython",
    "version": 3
   },
   "file_extension": ".py",
   "mimetype": "text/x-python",
   "name": "python",
   "nbconvert_exporter": "python",
   "pygments_lexer": "ipython3",
   "version": "3.7.4"
  }
 },
 "nbformat": 4,
 "nbformat_minor": 2
}
