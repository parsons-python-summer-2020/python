{
 "cells": [
  {
   "cell_type": "code",
   "execution_count": 6,
   "metadata": {},
   "outputs": [
    {
     "name": "stdout",
     "output_type": "stream",
     "text": [
      "0\n",
      "1\n",
      "2\n",
      "3\n",
      "4\n",
      "5\n",
      "6\n",
      "7\n",
      "8\n",
      "9\n",
      "10\n"
     ]
    }
   ],
   "source": [
    "for numbers in range(11):\n",
    "    print (numbers)"
   ]
  },
  {
   "cell_type": "code",
   "execution_count": 8,
   "metadata": {},
   "outputs": [
    {
     "name": "stdout",
     "output_type": "stream",
     "text": [
      "0\n",
      "1\n",
      "2\n",
      "3\n",
      "4\n",
      "5\n",
      "6\n",
      "7\n",
      "8\n",
      "9\n",
      "10\n",
      "Done!\n"
     ]
    }
   ],
   "source": [
    "for numbers in range(11):\n",
    "    print (numbers)\n",
    "print (\"Done!\")"
   ]
  },
  {
   "cell_type": "code",
   "execution_count": 25,
   "metadata": {},
   "outputs": [
    {
     "name": "stdout",
     "output_type": "stream",
     "text": [
      "157\n",
      "178\n",
      "189\n"
     ]
    }
   ],
   "source": [
    "# 3) Print the numbers greater than 150 from the list \n",
    "\n",
    "list = [12, 15, 47, 63, 78, 101, 157, 178, 189]\n",
    "# Expected output: \n",
    "\n",
    "# 157\n",
    "# 178 \n",
    "# 189 \n",
    "\n",
    "for x in list:\n",
    "    if x > 150:\n",
    "        print (x)"
   ]
  },
  {
   "cell_type": "code",
   "execution_count": 38,
   "metadata": {},
   "outputs": [
    {
     "name": "stdout",
     "output_type": "stream",
     "text": [
      "12\n",
      "78\n"
     ]
    }
   ],
   "source": [
    "# 4) Print the number that is even and less than 150 \n",
    "\n",
    "list = [12, 15, 47, 63, 78, 101, 157, 178, 189]\n",
    "# Expected output: \n",
    "\n",
    "# 12\n",
    "# 78\n",
    "\n",
    "#Hint: if you find a number greater than 150, stop the loop with a break\n",
    "\n",
    "for x in list:\n",
    "    if x < 150 and x % 2 == 0:\n",
    "        print (x)\n"
   ]
  },
  {
   "cell_type": "code",
   "execution_count": 59,
   "metadata": {},
   "outputs": [
    {
     "name": "stdout",
     "output_type": "stream",
     "text": [
      "15\n",
      "47\n",
      "63\n",
      "101\n",
      "157\n"
     ]
    }
   ],
   "source": [
    "#print first 5 odd numbers\n",
    "\n",
    "list = [12, 15, 47, 63, 78, 101, 157, 178, 189]\n",
    "count = 0\n",
    "for x in list:\n",
    "    if x % 2 != 0:\n",
    "        print (x) \n",
    "        count = count + 1\n",
    "    if count == 5: \n",
    "            break\n",
    "\n"
   ]
  },
  {
   "cell_type": "code",
   "execution_count": 140,
   "metadata": {},
   "outputs": [
    {
     "name": "stdout",
     "output_type": "stream",
     "text": [
      "Tails!\n",
      "\n",
      "Tails!\n",
      "\n",
      "Tails!\n",
      "\n",
      "Tails!\n",
      "\n",
      "Heads!\n",
      "\n",
      "Tails!\n",
      "\n",
      "Heads!\n",
      "\n",
      "Tails!\n",
      "\n",
      "Tails!\n",
      "\n",
      "Heads!\n",
      "\n",
      "\n",
      "Total number of tails are  7\n",
      "\n",
      "Total number of heads are  3\n"
     ]
    }
   ],
   "source": [
    "# 5) BONUS \n",
    "\n",
    "# Flip a coin 10 times \n",
    "# Hint: Look into the random library using: \n",
    "# import random \n",
    "\n",
    "total_heads = 0\n",
    "total_tails = 0\n",
    "\n",
    "list = ['head', 'tail']\n",
    "result = []\n",
    "for toss in range(10):\n",
    "    choice = random.choice(list)\n",
    "    if choice == 'head':\n",
    "        total_heads +=1\n",
    "        print ('Heads!\\n')\n",
    "        \n",
    "    elif choice == 'tail':\n",
    "        total_tails +=1\n",
    "        print ('Tails!\\n')\n",
    "    result.append(choice)\n",
    "    \n",
    "print (\"\\nTotal number of tails are \", total_tails)\n",
    "print (\"\\nTotal number of heads are \", total_heads)"
   ]
  }
 ],
 "metadata": {
  "kernelspec": {
   "display_name": "Python 3",
   "language": "python",
   "name": "python3"
  },
  "language_info": {
   "codemirror_mode": {
    "name": "ipython",
    "version": 3
   },
   "file_extension": ".py",
   "mimetype": "text/x-python",
   "name": "python",
   "nbconvert_exporter": "python",
   "pygments_lexer": "ipython3",
   "version": "3.7.6"
  }
 },
 "nbformat": 4,
 "nbformat_minor": 4
}
