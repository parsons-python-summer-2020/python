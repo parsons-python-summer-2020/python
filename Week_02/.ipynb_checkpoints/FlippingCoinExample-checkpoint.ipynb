{
 "cells": [
  {
   "cell_type": "markdown",
   "metadata": {},
   "source": [
    "### Flipping a coin 10 times! "
   ]
  },
  {
   "cell_type": "code",
   "execution_count": 10,
   "metadata": {},
   "outputs": [
    {
     "name": "stdout",
     "output_type": "stream",
     "text": [
      "Heads!\n",
      "\n",
      "Tails!\n",
      "\n",
      "Tails!\n",
      "\n",
      "Tails!\n",
      "\n",
      "Tails!\n",
      "\n",
      "Heads!\n",
      "\n",
      "Heads!\n",
      "\n",
      "Tails!\n",
      "\n",
      "Tails!\n",
      "\n",
      "Heads!\n",
      "\n",
      "\n",
      "Okay, you flipped heads 4 times \n",
      "\n",
      "and you flipped tails 6 times \n"
     ]
    }
   ],
   "source": [
    "import random\n",
    "\n",
    "total_heads = 0\n",
    "total_tails = 0\n",
    "count = 0\n",
    "\n",
    "\n",
    "while count < 10:\n",
    "\n",
    "    coin = random.randint(1, 2)\n",
    "\n",
    "    if coin == 1:\n",
    "        print(\"Heads!\\n\")\n",
    "        total_heads += 1\n",
    "        count += 1\n",
    "\n",
    "    elif coin == 2:\n",
    "        print(\"Tails!\\n\")\n",
    "        total_tails += 1\n",
    "        count += 1\n",
    "\n",
    "print(\"\\nOkay, you flipped heads\", total_heads, \"times \")\n",
    "print(\"\\nand you flipped tails\", total_tails, \"times \")"
   ]
  },
  {
   "cell_type": "code",
   "execution_count": null,
   "metadata": {},
   "outputs": [],
   "source": []
  }
 ],
 "metadata": {
  "kernelspec": {
   "display_name": "Python 3",
   "language": "python",
   "name": "python3"
  },
  "language_info": {
   "codemirror_mode": {
    "name": "ipython",
    "version": 3
   },
   "file_extension": ".py",
   "mimetype": "text/x-python",
   "name": "python",
   "nbconvert_exporter": "python",
   "pygments_lexer": "ipython3",
   "version": "3.7.4"
  }
 },
 "nbformat": 4,
 "nbformat_minor": 2
}
