{
 "cells": [
  {
   "cell_type": "markdown",
   "metadata": {},
   "source": [
<<<<<<< HEAD
    "## Basic Operator with Numbers"
   ]
  },
  {
   "cell_type": "code",
   "execution_count": 1,
   "metadata": {},
   "outputs": [
    {
     "name": "stdout",
     "output_type": "stream",
     "text": [
      "addition: 3\n",
      "subtraction: 7\n",
      "multiply: 12\n",
      "division: 4.0\n"
     ]
    }
   ],
   "source": [
    "addition = 1 + 2\n",
    "print( \"addition:\", addition)\n",
    "subtraction = 9 - 2\n",
    "print(\"subtraction:\", subtraction)\n",
    "multiply = 2*6\n",
    "print(\"multiply:\" , multiply)\n",
    "division = 24 / 6\n",
    "print(\"division:\", division)"
   ]
  },
  {
   "cell_type": "code",
   "execution_count": 2,
   "metadata": {},
   "outputs": [
    {
     "name": "stdout",
     "output_type": "stream",
     "text": [
      "remainder: 2\n"
     ]
    }
   ],
   "source": [
    "# remainder -the number which is left over in a division in which one quantity does not exactly divide another.\n",
    "# so 11/3 = 3 and with remainder of 2 (3*3 =9, 11-9 = 2)\n",
    "remainder = 11 % 3\n",
    "print(\"remainder:\", remainder)"
   ]
  },
  {
   "cell_type": "code",
   "execution_count": 2,
   "metadata": {},
   "outputs": [
    {
     "name": "stdout",
     "output_type": "stream",
     "text": [
      "squared: 49\n",
      "cubed: 8\n",
      "exponential: 9765625\n"
     ]
    }
   ],
   "source": [
    "squared = 7 ** 2\n",
    "cubed = 2 ** 3\n",
    "exponential = 5 ** 10\n",
    "print(\"squared:\", squared)\n",
    "print(\"cubed:\", cubed)\n",
    "print(\"exponential:\", exponential)"
   ]
  },
  {
   "cell_type": "code",
   "execution_count": 4,
   "metadata": {
    "scrolled": true
   },
   "outputs": [
    {
     "name": "stdout",
     "output_type": "stream",
     "text": [
      "quotient: 3\n"
     ]
    }
   ],
   "source": [
    "#a result obtained by dividing one quantity by another.\n",
    "quotient = 10 // 3 # normally 3.3333 but the floor of 3.333 is 3 \n",
    "print (\"quotient:\" , quotient)"
   ]
  },
  {
   "cell_type": "markdown",
   "metadata": {},
   "source": [
=======
>>>>>>> d9eb427d29bd676d414b63198d2e39daf784bd19
    "## Types"
   ]
  },
  {
   "cell_type": "markdown",
   "metadata": {},
   "source": [
<<<<<<< HEAD
    "### Numbers"
=======
    "### (Numbers)"
>>>>>>> d9eb427d29bd676d414b63198d2e39daf784bd19
   ]
  },
  {
   "cell_type": "markdown",
   "metadata": {},
   "source": [
    "#### Int\n",
    "#### Int, or integer, is a whole number, positive or negative, without decimals, of unlimited length."
   ]
  },
  {
   "cell_type": "code",
<<<<<<< HEAD
   "execution_count": 5,
=======
   "execution_count": 1,
>>>>>>> d9eb427d29bd676d414b63198d2e39daf784bd19
   "metadata": {},
   "outputs": [
    {
     "data": {
      "text/plain": [
       "int"
      ]
     },
<<<<<<< HEAD
     "execution_count": 5,
=======
     "execution_count": 1,
>>>>>>> d9eb427d29bd676d414b63198d2e39daf784bd19
     "metadata": {},
     "output_type": "execute_result"
    }
   ],
   "source": [
    "X = 3\n",
    "type(X)"
   ]
  },
  {
   "cell_type": "markdown",
   "metadata": {},
   "source": [
    "#### Float\n",
    "#### Float, or \"floating point number\" is a number, positive or negative, containing one or more decimals."
   ]
  },
  {
   "cell_type": "code",
<<<<<<< HEAD
   "execution_count": 8,
=======
   "execution_count": 2,
>>>>>>> d9eb427d29bd676d414b63198d2e39daf784bd19
   "metadata": {
    "scrolled": true
   },
   "outputs": [
    {
     "name": "stdout",
     "output_type": "stream",
     "text": [
      "a is a:  <class 'float'>\n",
      "b is a:  <class 'float'>\n",
      "c is a:  <class 'float'>\n",
      "value of c is: 10000000.0\n"
     ]
    }
   ],
   "source": [
    "a = 3.8\n",
    "b = 2.75\n",
    "c = 1e7 # Float can also be scientific numbers with an \"e\" to indicate the power of 10.\n",
    "print(\"a is a: \", type(a))\n",
    "print(\"b is a: \",type(b))\n",
    "print(\"c is a: \",type(c))\n",
    "\n",
    "\n",
    "print(\"value of c is:\", c)"
   ]
  },
  {
   "cell_type": "markdown",
   "metadata": {},
   "source": [
    "### Strings & List"
   ]
  },
  {
   "cell_type": "markdown",
   "metadata": {},
   "source": [
    "#### String\n",
    "#### A string in Python is a sequence of characters"
   ]
  },
  {
   "cell_type": "code",
<<<<<<< HEAD
   "execution_count": 9,
=======
   "execution_count": 3,
>>>>>>> d9eb427d29bd676d414b63198d2e39daf784bd19
   "metadata": {},
   "outputs": [
    {
     "name": "stdout",
     "output_type": "stream",
     "text": [
      "this is a string, strings can be created with quatation marks, single, double or triple!\n"
     ]
    }
   ],
   "source": [
    "\"this is a string, strings can be created with quatation marks, single, double or triple!\"\n",
    "print (\"this is a string, strings can be created with quatation marks, single, double or triple!\")"
   ]
  },
  {
   "cell_type": "markdown",
   "metadata": {},
   "source": [
    "#### Assign string with a variable"
   ]
  },
  {
   "cell_type": "code",
<<<<<<< HEAD
   "execution_count": 5,
=======
   "execution_count": 4,
>>>>>>> d9eb427d29bd676d414b63198d2e39daf784bd19
   "metadata": {},
   "outputs": [
    {
     "name": "stdout",
     "output_type": "stream",
     "text": [
      "hello world\n"
     ]
    }
   ],
   "source": [
    "helloworld = \"hello\" + \" \" + \"world\"\n",
    "print(helloworld)"
   ]
  },
  {
   "cell_type": "markdown",
   "metadata": {},
   "source": [
    "#### List\n",
    "#### A list is a collection which is ordered and changeable. In Python lists are written with square brackets."
   ]
  },
  {
   "cell_type": "code",
<<<<<<< HEAD
   "execution_count": 3,
=======
   "execution_count": 5,
>>>>>>> d9eb427d29bd676d414b63198d2e39daf784bd19
   "metadata": {},
   "outputs": [],
   "source": [
    "list_with_words= [\"this\", \"is\", \"a\", \"list\", \"we\", \"created\"]"
   ]
  },
  {
   "cell_type": "code",
<<<<<<< HEAD
   "execution_count": 14,
=======
   "execution_count": 6,
>>>>>>> d9eb427d29bd676d414b63198d2e39daf784bd19
   "metadata": {},
   "outputs": [
    {
     "name": "stdout",
     "output_type": "stream",
     "text": [
      "['this', 'is', 'a', 'list', 'we', 'created']\n"
     ]
    }
   ],
   "source": [
    "print(list_with_words)"
   ]
  },
  {
   "cell_type": "markdown",
   "metadata": {},
   "source": [
    "#### Acess & navigate your list"
   ]
  },
  {
   "cell_type": "code",
<<<<<<< HEAD
   "execution_count": 15,
=======
   "execution_count": 7,
>>>>>>> d9eb427d29bd676d414b63198d2e39daf784bd19
   "metadata": {},
   "outputs": [
    {
     "name": "stdout",
     "output_type": "stream",
     "text": [
      "this\n"
     ]
    }
   ],
   "source": [
    "print(list_with_words[0])  #in programming, index start with 0 instead of 1, so the first item would be number 0"
   ]
  },
  {
   "cell_type": "code",
<<<<<<< HEAD
   "execution_count": 16,
=======
   "execution_count": 8,
>>>>>>> d9eb427d29bd676d414b63198d2e39daf784bd19
   "metadata": {},
   "outputs": [
    {
     "name": "stdout",
     "output_type": "stream",
     "text": [
      "created\n"
     ]
    }
   ],
   "source": [
    "#print the last item\n",
    "print(list_with_words[-1])"
   ]
  },
  {
   "cell_type": "code",
<<<<<<< HEAD
   "execution_count": 4,
=======
   "execution_count": 9,
>>>>>>> d9eb427d29bd676d414b63198d2e39daf784bd19
   "metadata": {},
   "outputs": [
    {
     "name": "stdout",
     "output_type": "stream",
     "text": [
      "we\n"
     ]
    }
   ],
   "source": [
    "#print second last item,\n",
    "print(list_with_words[-2])"
   ]
  },
  {
   "cell_type": "code",
<<<<<<< HEAD
   "execution_count": 5,
=======
   "execution_count": 10,
>>>>>>> d9eb427d29bd676d414b63198d2e39daf784bd19
   "metadata": {},
   "outputs": [
    {
     "name": "stdout",
     "output_type": "stream",
     "text": [
      "['is', 'a', 'list']\n"
     ]
    }
   ],
   "source": [
    "#print from second item to the 5th item\n",
    "print(list_with_words[1:4])"
   ]
  },
  {
   "cell_type": "markdown",
   "metadata": {},
   "source": [
    "#### Combine list"
   ]
  },
  {
   "cell_type": "code",
<<<<<<< HEAD
   "execution_count": 6,
=======
   "execution_count": 11,
>>>>>>> d9eb427d29bd676d414b63198d2e39daf784bd19
   "metadata": {},
   "outputs": [
    {
     "name": "stdout",
     "output_type": "stream",
     "text": [
      "odd_even [1, 3, 5, 7, 2, 4, 6, 8]\n",
      "even_odd [2, 4, 6, 8, 1, 3, 5, 7]\n"
     ]
    }
   ],
   "source": [
    "even_numbers = [2,4,6,8]\n",
    "odd_numbers = [1,3,5,7]\n",
    "odd_even = odd_numbers + even_numbers\n",
    "even_odd = even_numbers + odd_numbers\n",
    "print(\"odd_even\", odd_even)\n",
    "print(\"even_odd\", even_odd)"
   ]
  },
  {
   "cell_type": "code",
<<<<<<< HEAD
   "execution_count": 7,
=======
   "execution_count": 12,
>>>>>>> d9eb427d29bd676d414b63198d2e39daf784bd19
   "metadata": {},
   "outputs": [
    {
     "name": "stdout",
     "output_type": "stream",
     "text": [
      "[1, 2, 3, 1, 2, 3, 1, 2, 3]\n"
     ]
    }
   ],
   "source": [
    "print([1,2,3] * 3)"
   ]
  },
  {
   "cell_type": "markdown",
   "metadata": {},
   "source": [
<<<<<<< HEAD
    "## Comparison & Boolean"
=======
    "## Basic Operator with Numbers"
>>>>>>> d9eb427d29bd676d414b63198d2e39daf784bd19
   ]
  },
  {
   "cell_type": "code",
<<<<<<< HEAD
   "execution_count": 22,
=======
   "execution_count": 13,
>>>>>>> d9eb427d29bd676d414b63198d2e39daf784bd19
   "metadata": {},
   "outputs": [
    {
     "name": "stdout",
     "output_type": "stream",
     "text": [
<<<<<<< HEAD
      "True\n"
=======
      "addition: 3\n",
      "subtraction: 7\n",
      "multiply: 12\n",
      "division: 4.0\n"
>>>>>>> d9eb427d29bd676d414b63198d2e39daf784bd19
     ]
    }
   ],
   "source": [
<<<<<<< HEAD
    "x = 5\n",
    "print (x ==5) # == is for comparing values, = is for assigning values"
=======
    "addition = 1 + 2\n",
    "print( \"addition:\", addition)\n",
    "subtraction = 9 - 2\n",
    "print(\"subtraction:\", subtraction)\n",
    "multiply = 2*6\n",
    "print(\"multiply:\" , multiply)\n",
    "division = 24 / 6\n",
    "print(\"division:\", division)"
>>>>>>> d9eb427d29bd676d414b63198d2e39daf784bd19
   ]
  },
  {
   "cell_type": "code",
<<<<<<< HEAD
   "execution_count": 6,
=======
   "execution_count": 14,
>>>>>>> d9eb427d29bd676d414b63198d2e39daf784bd19
   "metadata": {},
   "outputs": [
    {
     "name": "stdout",
     "output_type": "stream",
     "text": [
<<<<<<< HEAD
      "False\n"
=======
      "remainder: 2\n"
>>>>>>> d9eb427d29bd676d414b63198d2e39daf784bd19
     ]
    }
   ],
   "source": [
<<<<<<< HEAD
    "x = 5\n",
    "print(x!=5) #! is used as negation "
=======
    "# remainder -the number which is left over in a division in which one quantity does not exactly divide another.\n",
    "# so 11/3 = 3 and with remainder of 2 (3*3 =9, 11-9 = 2)\n",
    "remainder = 11 % 3\n",
    "print(\"remainder:\", remainder)"
>>>>>>> d9eb427d29bd676d414b63198d2e39daf784bd19
   ]
  },
  {
   "cell_type": "code",
<<<<<<< HEAD
   "execution_count": 8,
=======
   "execution_count": 15,
>>>>>>> d9eb427d29bd676d414b63198d2e39daf784bd19
   "metadata": {},
   "outputs": [
    {
     "name": "stdout",
     "output_type": "stream",
     "text": [
<<<<<<< HEAD
      "True\n"
=======
      "squared: 49\n",
      "cubed: 8\n",
      "exponential: 9765625\n"
>>>>>>> d9eb427d29bd676d414b63198d2e39daf784bd19
     ]
    }
   ],
   "source": [
<<<<<<< HEAD
    "x = 5\n",
    "\n",
    "print(x > 3 and x < 10)"
=======
    "squared = 7 ** 2\n",
    "cubed = 2 ** 3\n",
    "exponential = 5 ** 10\n",
    "print(\"squared:\", squared)\n",
    "print(\"cubed:\", cubed)\n",
    "print(\"exponential:\", exponential)"
>>>>>>> d9eb427d29bd676d414b63198d2e39daf784bd19
   ]
  },
  {
   "cell_type": "code",
<<<<<<< HEAD
   "execution_count": 9,
   "metadata": {},
=======
   "execution_count": 16,
   "metadata": {
    "scrolled": true
   },
>>>>>>> d9eb427d29bd676d414b63198d2e39daf784bd19
   "outputs": [
    {
     "name": "stdout",
     "output_type": "stream",
     "text": [
<<<<<<< HEAD
      "True\n"
=======
      "quotient: 3\n"
>>>>>>> d9eb427d29bd676d414b63198d2e39daf784bd19
     ]
    }
   ],
   "source": [
<<<<<<< HEAD
    "x = 5\n",
    "\n",
    "print(x > 3 or x < 4)"
=======
    "#a result obtained by dividing one quantity by another.\n",
    "quotient = 10 // 3 # normally 3.3333 but the floor of 3.333 is 3 \n",
    "print (\"quotient:\" , quotient)"
   ]
  },
  {
   "cell_type": "markdown",
   "metadata": {},
   "source": [
    "### Short Hand"
>>>>>>> d9eb427d29bd676d414b63198d2e39daf784bd19
   ]
  },
  {
   "cell_type": "code",
<<<<<<< HEAD
   "execution_count": 10,
=======
   "execution_count": 17,
>>>>>>> d9eb427d29bd676d414b63198d2e39daf784bd19
   "metadata": {},
   "outputs": [
    {
     "name": "stdout",
     "output_type": "stream",
     "text": [
<<<<<<< HEAD
      "False\n"
=======
      "8\n"
>>>>>>> d9eb427d29bd676d414b63198d2e39daf784bd19
     ]
    }
   ],
   "source": [
<<<<<<< HEAD
    "x = 5\n",
    "\n",
    "print(not(x > 3 and x < 10))"
   ]
  },
  {
   "cell_type": "markdown",
   "metadata": {},
   "source": [
    "## Identity Operators"
=======
    "x=3\n",
    "x+=5 # x=x+5\n",
    "print(x)"
   ]
  },
  {
   "cell_type": "code",
   "execution_count": 18,
   "metadata": {},
   "outputs": [
    {
     "name": "stdout",
     "output_type": "stream",
     "text": [
      "7\n"
     ]
    }
   ],
   "source": [
    "y=9\n",
    "y-=2 # y=9-2 \n",
    "print(y)"
>>>>>>> d9eb427d29bd676d414b63198d2e39daf784bd19
   ]
  },
  {
   "cell_type": "code",
<<<<<<< HEAD
   "execution_count": 11,
=======
   "execution_count": 19,
>>>>>>> d9eb427d29bd676d414b63198d2e39daf784bd19
   "metadata": {},
   "outputs": [
    {
     "name": "stdout",
     "output_type": "stream",
     "text": [
<<<<<<< HEAD
      "False\n",
      "True\n",
      "False\n"
=======
      "6\n"
>>>>>>> d9eb427d29bd676d414b63198d2e39daf784bd19
     ]
    }
   ],
   "source": [
<<<<<<< HEAD
    "x1 = 5\n",
    "y1 = 5\n",
    "x2 = 'Hello'\n",
    "y2 = 'Hello'\n",
    "x3 = [1,2,3]\n",
    "y3 = [1,2,3]\n",
    "\n",
    "# Output: False\n",
    "print(x1 is not y1)\n",
    "\n",
    "# Output: True\n",
    "print(x2 is y2)\n",
    "\n",
    "# Output: False\n",
    "print(x3 is y3)"
=======
    "x=2\n",
    "x*=3 # x=2*3 \n",
    "print(x)"
>>>>>>> d9eb427d29bd676d414b63198d2e39daf784bd19
   ]
  },
  {
   "cell_type": "code",
<<<<<<< HEAD
   "execution_count": 12,
=======
   "execution_count": 20,
>>>>>>> d9eb427d29bd676d414b63198d2e39daf784bd19
   "metadata": {},
   "outputs": [
    {
     "name": "stdout",
     "output_type": "stream",
     "text": [
<<<<<<< HEAD
      "True\n"
=======
      "9.0\n"
>>>>>>> d9eb427d29bd676d414b63198d2e39daf784bd19
     ]
    }
   ],
   "source": [
<<<<<<< HEAD
    "x = [\"apple\", \"banana\"]\n",
    "\n",
    "print(\"banana\" in x)"
=======
    "y = 18\n",
    "y/=2 # y=18/2 \n",
    "print(y)"
>>>>>>> d9eb427d29bd676d414b63198d2e39daf784bd19
   ]
  },
  {
   "cell_type": "markdown",
   "metadata": {},
   "source": [
    "## Type Convertion / Cast"
   ]
  },
  {
   "cell_type": "code",
<<<<<<< HEAD
   "execution_count": 14,
=======
   "execution_count": 21,
>>>>>>> d9eb427d29bd676d414b63198d2e39daf784bd19
   "metadata": {},
   "outputs": [
    {
     "name": "stdout",
     "output_type": "stream",
     "text": [
      "x: 1\n",
      "y: 2\n",
      "z: 3\n"
     ]
    }
   ],
   "source": [
    "x = int(1)   # x will be 1\n",
    "y = int(2.8) # y will be 2\n",
    "z = int(\"3\") # z will be 3\n",
    "print (\"x:\",x)\n",
    "print(\"y:\",y)  \n",
    "print(\"z:\",z)"
   ]
  },
  {
   "cell_type": "code",
<<<<<<< HEAD
   "execution_count": 15,
=======
   "execution_count": 22,
>>>>>>> d9eb427d29bd676d414b63198d2e39daf784bd19
   "metadata": {},
   "outputs": [
    {
     "name": "stdout",
     "output_type": "stream",
     "text": [
      "x: 1.0\n",
      "y: 2.8\n",
      "z: 3.0\n",
      "w: 4.2\n"
     ]
    }
   ],
   "source": [
    "x = float(1)     # x will be 1.0\n",
    "y = float(2.8)   # y will be 2.8\n",
    "z = float(\"3\")   # z will be 3.0\n",
    "w = float(\"4.2\") # w will be 4.2\n",
    "print (\"x:\",x)\n",
    "print(\"y:\",y)  \n",
    "print(\"z:\",z)\n",
    "print(\"w:\",w )"
   ]
  },
  {
   "cell_type": "code",
<<<<<<< HEAD
   "execution_count": 16,
=======
   "execution_count": 23,
>>>>>>> d9eb427d29bd676d414b63198d2e39daf784bd19
   "metadata": {},
   "outputs": [
    {
     "name": "stdout",
     "output_type": "stream",
     "text": [
      "x: s1\n",
      "y: 2\n",
      "z: 3.0\n"
     ]
    }
   ],
   "source": [
    "x = str(\"s1\") # x will be 's1'\n",
    "y = str(2)    # y will be '2'\n",
    "z = str(3.0)  # z will be '3.0'\n",
    "print (\"x:\",x)\n",
    "print(\"y:\",y)  \n",
    "print(\"z:\",z)"
   ]
  },
  {
   "cell_type": "code",
<<<<<<< HEAD
   "execution_count": 13,
=======
   "execution_count": 24,
>>>>>>> d9eb427d29bd676d414b63198d2e39daf784bd19
   "metadata": {},
   "outputs": [
    {
     "name": "stdout",
     "output_type": "stream",
     "text": [
      "datatype of num_int: <class 'int'>\n",
      "datatype of num_flo: <class 'float'>\n",
      "Value of num_new: 124.23\n",
      "datatype of num_new: <class 'float'>\n"
     ]
    }
   ],
   "source": [
    "num_int = 123\n",
    "num_flo = 1.23\n",
    "\n",
    "num_new = num_int + num_flo\n",
    "\n",
    "print(\"datatype of num_int:\",type(num_int))\n",
    "print(\"datatype of num_flo:\",type(num_flo))\n",
    "\n",
    "print(\"Value of num_new:\",num_new)\n",
    "print(\"datatype of num_new:\",type(num_new))"
   ]
  },
  {
   "cell_type": "markdown",
   "metadata": {},
   "source": [
    "### Changing Types"
   ]
  },
  {
   "cell_type": "markdown",
   "metadata": {},
   "source": [
    "#### The below code will not work "
   ]
  },
  {
   "cell_type": "code",
<<<<<<< HEAD
   "execution_count": null,
   "metadata": {},
   "outputs": [],
=======
   "execution_count": 25,
   "metadata": {},
   "outputs": [
    {
     "name": "stdout",
     "output_type": "stream",
     "text": [
      "Data type of num_int: <class 'int'>\n",
      "Data type of num_str: <class 'str'>\n"
     ]
    },
    {
     "ename": "TypeError",
     "evalue": "unsupported operand type(s) for +: 'int' and 'str'",
     "output_type": "error",
     "traceback": [
      "\u001b[0;31m---------------------------------------------------------------------------\u001b[0m",
      "\u001b[0;31mTypeError\u001b[0m                                 Traceback (most recent call last)",
      "\u001b[0;32m<ipython-input-25-6e3c0f0ba491>\u001b[0m in \u001b[0;36m<module>\u001b[0;34m\u001b[0m\n\u001b[1;32m      5\u001b[0m \u001b[0mprint\u001b[0m\u001b[0;34m(\u001b[0m\u001b[0;34m\"Data type of num_str:\"\u001b[0m\u001b[0;34m,\u001b[0m\u001b[0mtype\u001b[0m\u001b[0;34m(\u001b[0m\u001b[0mnum_str\u001b[0m\u001b[0;34m)\u001b[0m\u001b[0;34m)\u001b[0m\u001b[0;34m\u001b[0m\u001b[0;34m\u001b[0m\u001b[0m\n\u001b[1;32m      6\u001b[0m \u001b[0;34m\u001b[0m\u001b[0m\n\u001b[0;32m----> 7\u001b[0;31m \u001b[0mprint\u001b[0m\u001b[0;34m(\u001b[0m\u001b[0mnum_int\u001b[0m\u001b[0;34m+\u001b[0m\u001b[0mnum_str\u001b[0m\u001b[0;34m)\u001b[0m\u001b[0;34m\u001b[0m\u001b[0;34m\u001b[0m\u001b[0m\n\u001b[0m",
      "\u001b[0;31mTypeError\u001b[0m: unsupported operand type(s) for +: 'int' and 'str'"
     ]
    }
   ],
>>>>>>> d9eb427d29bd676d414b63198d2e39daf784bd19
   "source": [
    "num_int = 123\n",
    "num_str = \"456\"\n",
    "\n",
    "print(\"Data type of num_int:\",type(num_int))\n",
    "print(\"Data type of num_str:\",type(num_str))\n",
    "\n",
    "print(num_int+num_str)"
   ]
  },
  {
   "cell_type": "markdown",
   "metadata": {},
   "source": [
    "#### Using type conversion to make the code below to work"
   ]
  },
  {
   "cell_type": "code",
<<<<<<< HEAD
   "execution_count": null,
   "metadata": {},
   "outputs": [],
=======
   "execution_count": 26,
   "metadata": {},
   "outputs": [
    {
     "name": "stdout",
     "output_type": "stream",
     "text": [
      "Data type of num_int: <class 'int'>\n",
      "Data type of num_str before Type Casting: <class 'str'>\n",
      "Data type of num_str after Type Casting: <class 'int'>\n",
      "Sum of num_int and num_str: 579\n",
      "Data type of the sum: <class 'int'>\n"
     ]
    }
   ],
>>>>>>> d9eb427d29bd676d414b63198d2e39daf784bd19
   "source": [
    "num_int = 123\n",
    "num_str = \"456\"\n",
    "\n",
    "print(\"Data type of num_int:\",type(num_int))\n",
    "print(\"Data type of num_str before Type Casting:\",type(num_str))\n",
    "\n",
    "num_str = int(num_str)\n",
    "print(\"Data type of num_str after Type Casting:\",type(num_str))\n",
    "\n",
    "num_sum = num_int + num_str\n",
    "\n",
    "print(\"Sum of num_int and num_str:\",num_sum)\n",
    "print(\"Data type of the sum:\",type(num_sum))"
   ]
  },
  {
   "cell_type": "markdown",
   "metadata": {},
   "source": [
<<<<<<< HEAD
    "## Logical Operations "
   ]
  },
  {
   "cell_type": "markdown",
   "metadata": {},
   "source": [
    "### Logical operators are the and, or, not operators."
   ]
  },
  {
   "cell_type": "code",
   "execution_count": 17,
=======
    "## Comparison & Boolean"
   ]
  },
  {
   "cell_type": "code",
   "execution_count": 27,
   "metadata": {},
   "outputs": [
    {
     "name": "stdout",
     "output_type": "stream",
     "text": [
      "True\n"
     ]
    }
   ],
   "source": [
    "x = 5\n",
    "print (x ==5) # == is for comparing values, = is for assigning values"
   ]
  },
  {
   "cell_type": "code",
   "execution_count": 28,
   "metadata": {},
   "outputs": [
    {
     "name": "stdout",
     "output_type": "stream",
     "text": [
      "False\n"
     ]
    }
   ],
   "source": [
    "x = 5\n",
    "print(x!=5) #! is used as negation "
   ]
  },
  {
   "cell_type": "code",
   "execution_count": 29,
   "metadata": {},
   "outputs": [
    {
     "name": "stdout",
     "output_type": "stream",
     "text": [
      "True\n"
     ]
    }
   ],
   "source": [
    "x = 5\n",
    "\n",
    "print(x > 3 and x < 10)"
   ]
  },
  {
   "cell_type": "code",
   "execution_count": 30,
   "metadata": {},
   "outputs": [
    {
     "name": "stdout",
     "output_type": "stream",
     "text": [
      "True\n"
     ]
    }
   ],
   "source": [
    "x = 5\n",
    "\n",
    "print(x > 3 or x < 4)"
   ]
  },
  {
   "cell_type": "code",
   "execution_count": 31,
   "metadata": {},
   "outputs": [
    {
     "name": "stdout",
     "output_type": "stream",
     "text": [
      "False\n"
     ]
    }
   ],
   "source": [
    "x = 5\n",
    "\n",
    "print(not(x > 3 and x < 10))"
   ]
  },
  {
   "cell_type": "code",
   "execution_count": 32,
   "metadata": {},
   "outputs": [
    {
     "name": "stdout",
     "output_type": "stream",
     "text": [
      "True\n"
     ]
    }
   ],
   "source": [
    "x = 5\n",
    "\n",
    "print(x>=5)"
   ]
  },
  {
   "cell_type": "code",
   "execution_count": 33,
   "metadata": {},
   "outputs": [
    {
     "name": "stdout",
     "output_type": "stream",
     "text": [
      "False\n"
     ]
    }
   ],
   "source": [
    "x=5\n",
    "\n",
    "print (x<=4)"
   ]
  },
  {
   "cell_type": "markdown",
   "metadata": {},
   "source": [
    "## Logical Operations "
   ]
  },
  {
   "cell_type": "markdown",
   "metadata": {},
   "source": [
    "### Logical operators are the and, or, not operators."
   ]
  },
  {
   "cell_type": "code",
   "execution_count": 34,
>>>>>>> d9eb427d29bd676d414b63198d2e39daf784bd19
   "metadata": {},
   "outputs": [
    {
     "name": "stdout",
     "output_type": "stream",
     "text": [
      "x and y is False\n",
      "x or y is True\n",
      "not x is False\n"
     ]
    }
   ],
   "source": [
    "x = True\n",
    "y = False\n",
    "\n",
<<<<<<< HEAD
    "print('x and y is',x and y)\n",
    "\n",
    "print('x or y is',x or y)\n",
    "\n",
    "print('not x is',not x)"
=======
    "print('x and y is',x and y) # one is true and the other is false, so 'and' is false\n",
    "\n",
    "print('x or y is',x or y) # one is true, other is false, so 'or' is true \n",
    "\n",
    "print('not x is',not x) # opposite of true is false "
>>>>>>> d9eb427d29bd676d414b63198d2e39daf784bd19
   ]
  },
  {
   "cell_type": "markdown",
   "metadata": {},
   "source": [
    "### Identity operators: \"is not\" and \"is\" "
   ]
  },
  {
   "cell_type": "code",
<<<<<<< HEAD
   "execution_count": null,
   "metadata": {},
   "outputs": [],
=======
   "execution_count": 35,
   "metadata": {},
   "outputs": [
    {
     "name": "stdout",
     "output_type": "stream",
     "text": [
      "False\n",
      "True\n"
     ]
    }
   ],
>>>>>>> d9eb427d29bd676d414b63198d2e39daf784bd19
   "source": [
    "x1 = 5\n",
    "y1 = 5\n",
    "x2 = 'Hello'\n",
    "y2 = 'Hello'\n",
<<<<<<< HEAD
    "x3 = [1,2,3]\n",
    "y3 = [1,2,3]\n",
=======
>>>>>>> d9eb427d29bd676d414b63198d2e39daf784bd19
    "\n",
    "# Output: False\n",
    "print(x1 is not y1)\n",
    "\n",
    "# Output: True\n",
<<<<<<< HEAD
    "print(x2 is y2)\n",
    "\n",
    "# Output: False\n",
    "print(x3 is y3)"
=======
    "print(x2 is y2)\n"
>>>>>>> d9eb427d29bd676d414b63198d2e39daf784bd19
   ]
  },
  {
   "cell_type": "markdown",
   "metadata": {},
   "source": [
    "### membership operators: \"not in\" and \"in\" "
   ]
  },
  {
   "cell_type": "code",
<<<<<<< HEAD
   "execution_count": null,
   "metadata": {},
   "outputs": [],
   "source": [
    "x = 'Hello world'\n",
    "y = {1:'a',2:'b'}\n",
=======
   "execution_count": 36,
   "metadata": {},
   "outputs": [
    {
     "name": "stdout",
     "output_type": "stream",
     "text": [
      "True\n",
      "False\n",
      "False\n"
     ]
    }
   ],
   "source": [
    "x = 'Hello world'\n",
>>>>>>> d9eb427d29bd676d414b63198d2e39daf784bd19
    "\n",
    "# Output: True\n",
    "print('H' in x)\n",
    "\n",
<<<<<<< HEAD
    "# Output: True\n",
    "print('hello' not in x)\n",
    "\n",
    "# Output: True\n",
    "print(1 in y)\n",
    "\n",
    "# Output: False\n",
    "print('a' in y)"
=======
    "# Output: False\n",
    "print('hello' in x) #this is because the \"H\" is capitalized\n",
    "\n",
    "# Output: True\n",
    "print('Hello' not in x)  \n"
>>>>>>> d9eb427d29bd676d414b63198d2e39daf784bd19
   ]
  },
  {
   "cell_type": "markdown",
   "metadata": {},
   "source": [
    "### If Statements"
   ]
  },
  {
   "cell_type": "code",
<<<<<<< HEAD
   "execution_count": 4,
=======
   "execution_count": 37,
>>>>>>> d9eb427d29bd676d414b63198d2e39daf784bd19
   "metadata": {},
   "outputs": [
    {
     "name": "stdout",
     "output_type": "stream",
     "text": [
      "condition not met\n"
     ]
    }
   ],
   "source": [
    "x = False\n",
<<<<<<< HEAD
    "if x : # this if x is true \n",
=======
    "if x: # this means if x is true \n",
>>>>>>> d9eb427d29bd676d414b63198d2e39daf784bd19
    "    print(\"condition met\")\n",
    "else:\n",
    "    print(\"condition not met\")"
   ]
  },
  {
   "cell_type": "code",
<<<<<<< HEAD
   "execution_count": 3,
=======
   "execution_count": 38,
>>>>>>> d9eb427d29bd676d414b63198d2e39daf784bd19
   "metadata": {},
   "outputs": [
    {
     "name": "stdout",
     "output_type": "stream",
     "text": [
      "condition met\n"
     ]
    }
   ],
   "source": [
    "x = False\n",
<<<<<<< HEAD
    "if not x : # this means condition is true because not false is true \n",
=======
    "if not x: # this means condition is true because 'not false' is true \n",
>>>>>>> d9eb427d29bd676d414b63198d2e39daf784bd19
    "    print(\"condition met\")\n",
    "else:\n",
    "    print(\"condition not met\")"
   ]
  },
  {
<<<<<<< HEAD
   "cell_type": "markdown",
   "metadata": {},
   "source": [
    "## This and that or something else\n"
=======
   "cell_type": "code",
   "execution_count": 39,
   "metadata": {},
   "outputs": [
    {
     "name": "stdout",
     "output_type": "stream",
     "text": [
      "x is less than y\n"
     ]
    }
   ],
   "source": [
    "x = 10 \n",
    "y = 20\n",
    "\n",
    "if x < y:\n",
    "    print(\"x is less than y\")\n",
    "else: \n",
    "    print(\"x is greater than y \")"
>>>>>>> d9eb427d29bd676d414b63198d2e39daf784bd19
   ]
  },
  {
   "cell_type": "markdown",
   "metadata": {},
   "source": [
    "\n",
<<<<<<< HEAD
    "Two easy to understand operators are and and or. They do exactly what they sound like:"
=======
    "### Two easy to understand operators are and and or. They do exactly what they sound like:"
>>>>>>> d9eb427d29bd676d414b63198d2e39daf784bd19
   ]
  },
  {
   "cell_type": "code",
<<<<<<< HEAD
   "execution_count": null,
   "metadata": {},
   "outputs": [],
=======
   "execution_count": 40,
   "metadata": {},
   "outputs": [
    {
     "name": "stdout",
     "output_type": "stream",
     "text": [
      "condition met\n",
      "condition met\n"
     ]
    }
   ],
>>>>>>> d9eb427d29bd676d414b63198d2e39daf784bd19
   "source": [
    "if 1 < 2 and 4 > 2:\n",
    "    print(\"condition met\")\n",
    "\n",
<<<<<<< HEAD
    "if 1 > 2 and 4 < 10:x\n",
    "    print(\"condition not met\")\n",
    "\n",
    "if 4 < 10 or 1 < 2:\n",
=======
    "if 4 < 10 or 1 > 2:\n",
>>>>>>> d9eb427d29bd676d414b63198d2e39daf784bd19
    "    print(\"condition met\")"
   ]
  },
  {
<<<<<<< HEAD
   "cell_type": "markdown",
   "metadata": {},
   "source": [
    "### For loops "
   ]
  },
  {
   "cell_type": "code",
   "execution_count": null,
   "metadata": {},
   "outputs": [],
   "source": [
    "a = ['yellow', 'blue', 'red']\n",
    "for i in a:\n",
    "     print(i)"
   ]
  },
  {
   "cell_type": "markdown",
   "metadata": {},
   "source": [
    "## Avoid Infinity loops \n",
    "## while loops"
   ]
  },
  {
   "cell_type": "code",
   "execution_count": null,
   "metadata": {},
   "outputs": [],
   "source": [
    "x = 1\n",
    "while x <= 5:\n",
    "    print(x)\n",
    "    x += 1"
=======
   "cell_type": "code",
   "execution_count": 41,
   "metadata": {},
   "outputs": [],
   "source": [
    "if 1 > 2 and 4 < 10:\n",
    "    print(\"condition not met\") # this will not print anything bc condition is not met "
>>>>>>> d9eb427d29bd676d414b63198d2e39daf784bd19
   ]
  },
  {
   "cell_type": "markdown",
   "metadata": {},
   "source": [
<<<<<<< HEAD
    "### using breaks"
=======
    "#### nested IF statements"
>>>>>>> d9eb427d29bd676d414b63198d2e39daf784bd19
   ]
  },
  {
   "cell_type": "code",
<<<<<<< HEAD
   "execution_count": null,
   "metadata": {},
   "outputs": [],
   "source": [
    "i = 1\n",
    "while i < 6:\n",
    "  print(i)\n",
    "  if i == 3:\n",
    "    break\n",
    "  i += 1"
   ]
  },
  {
   "cell_type": "markdown",
   "metadata": {},
   "source": [
    "## if statements "
=======
   "execution_count": 42,
   "metadata": {},
   "outputs": [
    {
     "name": "stdout",
     "output_type": "stream",
     "text": [
      "X is above ten,\n",
      "and also above 20!\n"
     ]
    }
   ],
   "source": [
    "x = 41\n",
    "\n",
    "if x > 10:\n",
    "  print(\"X is above ten,\")\n",
    "  if x > 20:\n",
    "    print(\"and also above 20!\")\n",
    "  else:\n",
    "    print(\"but not above 20.\")"
>>>>>>> d9eb427d29bd676d414b63198d2e39daf784bd19
   ]
  },
  {
   "cell_type": "code",
<<<<<<< HEAD
   "execution_count": null,
   "metadata": {},
   "outputs": [],
   "source": [
    "a = 200\n",
    "b = 33\n",
    "if b > a:\n",
    "  print(\"b is greater than a\")\n",
    "else:\n",
    "  print(\"b is not greater than a\")"
=======
   "execution_count": 43,
   "metadata": {},
   "outputs": [
    {
     "name": "stdout",
     "output_type": "stream",
     "text": [
      "a and b are equal\n"
     ]
    }
   ],
   "source": [
    "# use elif for multiple conditions \n",
    "\n",
    "a = 33\n",
    "b = 33\n",
    "if b > a:\n",
    "  print(\"b is greater than a\")\n",
    "elif a < b: # elif is shorthand for \"else if\" \n",
    "  print(\"a is greater than b\")\n",
    "elif a == b:\n",
    "  print(\"a and b are equal\")"
>>>>>>> d9eb427d29bd676d414b63198d2e39daf784bd19
   ]
  },
  {
   "cell_type": "markdown",
   "metadata": {},
   "source": [
<<<<<<< HEAD
    "## Nested if statements "
=======
    "### For Loops "
>>>>>>> d9eb427d29bd676d414b63198d2e39daf784bd19
   ]
  },
  {
   "cell_type": "code",
<<<<<<< HEAD
   "execution_count": null,
   "metadata": {},
   "outputs": [],
   "source": [
    "x = 41\n",
    "\n",
    "if x > 10:\n",
    "  print(\"Above ten,\")\n",
    "  if x > 20:\n",
    "    print(\"and also above 20!\")\n",
    "  else:\n",
    "    print(\"but not above 20.\")"
=======
   "execution_count": 44,
   "metadata": {},
   "outputs": [
    {
     "name": "stdout",
     "output_type": "stream",
     "text": [
      "yellow\n",
      "blue\n",
      "red\n"
     ]
    }
   ],
   "source": [
    "list = ['yellow', 'blue', 'red']\n",
    "\n",
    "for color in list:\n",
    "     print(color)"
>>>>>>> d9eb427d29bd676d414b63198d2e39daf784bd19
   ]
  },
  {
   "cell_type": "markdown",
   "metadata": {},
   "source": [
<<<<<<< HEAD
    "## elif"
=======
    "#### Avoid infinte loops "
>>>>>>> d9eb427d29bd676d414b63198d2e39daf784bd19
   ]
  },
  {
   "cell_type": "code",
<<<<<<< HEAD
   "execution_count": null,
   "metadata": {},
   "outputs": [],
   "source": [
    "a = 33\n",
    "b = 33\n",
    "if b > a:\n",
    "  print(\"b is greater than a\")\n",
    "elif a == b:\n",
    "  print(\"a and b are equal\")"
=======
   "execution_count": 45,
   "metadata": {},
   "outputs": [],
   "source": [
    "# This will go on forever becayse x is ALWAYS equal to one \n",
    "\n",
    "# x = 1\n",
    "# while x < 5:\n",
    "#     print(x)"
>>>>>>> d9eb427d29bd676d414b63198d2e39daf784bd19
   ]
  },
  {
   "cell_type": "code",
<<<<<<< HEAD
   "execution_count": null,
   "metadata": {},
   "outputs": [],
   "source": [
    "cars = ['audi', 'bmw', 'subaru', 'toyota']\n",
    "\n",
    "for car in cars:\n",
    "    if car == 'bmw':\n",
    "        print(car.upper()) # this is a method, we will discuss this later \n",
    "    else: \n",
    "        print(car.title()) # this is a method, we will discuss this later "
=======
   "execution_count": 46,
   "metadata": {},
   "outputs": [
    {
     "name": "stdout",
     "output_type": "stream",
     "text": [
      "1\n",
      "2\n",
      "3\n",
      "4\n",
      "5\n"
     ]
    }
   ],
   "source": [
    "# This will stop when x is less than or = to 5 because everytime it runs, x goes up by 1 \n",
    "x = 1\n",
    "while x <= 5:\n",
    "    print(x)\n",
    "    x += 1 # x=x+1 \n",
    "    "
>>>>>>> d9eb427d29bd676d414b63198d2e39daf784bd19
   ]
  },
  {
   "cell_type": "code",
   "execution_count": null,
   "metadata": {},
   "outputs": [],
   "source": []
  }
 ],
 "metadata": {
  "kernelspec": {
   "display_name": "Python 3",
   "language": "python",
   "name": "python3"
  },
  "language_info": {
   "codemirror_mode": {
    "name": "ipython",
    "version": 3
   },
   "file_extension": ".py",
   "mimetype": "text/x-python",
   "name": "python",
   "nbconvert_exporter": "python",
   "pygments_lexer": "ipython3",
<<<<<<< HEAD
   "version": "3.7.4"
=======
   "version": "3.7.6"
>>>>>>> d9eb427d29bd676d414b63198d2e39daf784bd19
  }
 },
 "nbformat": 4,
 "nbformat_minor": 2
}
